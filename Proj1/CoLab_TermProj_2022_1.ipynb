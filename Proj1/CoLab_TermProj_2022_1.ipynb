{
  "cells": [
    {
      "cell_type": "markdown",
      "metadata": {
        "id": "view-in-github",
        "colab_type": "text"
      },
      "source": [
        "<a href=\"https://colab.research.google.com/github/heomanism/Bioinformatics1/blob/main/CoLab_TermProj_2022_1.ipynb\" target=\"_parent\"><img src=\"https://colab.research.google.com/assets/colab-badge.svg\" alt=\"Open In Colab\"/></a>"
      ]
    },
    {
      "cell_type": "markdown",
      "metadata": {
        "id": "_SmTogjeMD47"
      },
      "source": [
        "# 생물정보학 및 실습 1 - Term Project용 환경 셋업\n",
        "\n",
        "```\n",
        "생물정보학 및 실습 1\n",
        "서울대학교 협동과정 생물정보학전공 2022년 1학기\n",
        "\n",
        "이 노트북은 Creative Commons BY-SA 조건으로 재사용 가능합니다.\n",
        "장혜식 <hyeshik@snu.ac.kr>, 서울대학교 생명과학부\n",
        "```\n",
        "\n",
        "이 노트북은 Google Colab을 이용해서 Term Project를 할 수 있도록 환경을 준비해 줍니다. 터미널 사용이 원활하지 않은 상태이고, 데이터를 오랫동안 보관하기 어렵기 때문에 되도록 개인용 컴퓨터에서 [Anaconda](https://www.anaconda.com/)나 [JupyterLab](https://jupyterlab.readthedocs.io/en/stable/) 등을 설치하고 사용하시는 것이 편하지만, 개인용 컴퓨터 사양이 부족한 경우에는 Google CoLab을 사용할 수도 있습니다. 개인용 컴퓨터를 쓸 때는 Windows에서는 [WSL2](https://docs.microsoft.com/en-us/windows/wsl/install-win10)를 쓰시면 리눅스 커맨드라인 환경을 쓸 수 있습니다. Google Colab은 창을 닫은 후 90분 후, 또는 창을 처음 열고 12시간 후에 환경을 닫아버리기 때문에 매번 실습할 때마다 새로 셋업이 필요합니다. `Runtime->Run All`을 실행해서 전체를 한 번 실행하시면 준비됩니다. 모든 것이 잘 안 되고 뭔가 꼬인 느낌이 강하게 들 때는 `Runtime->Factory reset runtime`을 누르고 새로 시작하시면 될 수도 있습니다.\n"
      ]
    },
    {
      "cell_type": "markdown",
      "metadata": {
        "id": "zGYjheLcRJS0"
      },
      "source": [
        "## Google Drive 마운트\n",
        "\n",
        "데이터 파일들을 불러오고 저장하기 위해서 Google Drive를 연결합니다. **이번엔 스크립트 파일을 편집해야 하기 때문에 Google Drive 마운트를 하지 않으면 vim등 콘솔에서 쓸 수 있는 에디터를 쓰셔야 합니다.** 화면에 나오는 주소를 눌러서 인증하고 인증 코드를 그 아래에 입력하세요. 그러면 `/contents/drive/MyDrive`에서 자신의 Drive 최상단 폴더가 보입니다. Google CoLab에서 접속하지 않고, 본인 컴퓨터 또는 연구실 워크스테이션 등 다른 컴퓨터를 쓰시는 경우에는 저장공간이 충분하므로 이 부분은 생략하고 지나갑니다."
      ]
    },
    {
      "cell_type": "code",
      "execution_count": null,
      "metadata": {
        "id": "0HgOxANiRHgl",
        "colab": {
          "base_uri": "https://localhost:8080/"
        },
        "outputId": "c3949292-9054-4cfb-c250-e19c3fa45b77"
      },
      "outputs": [
        {
          "output_type": "stream",
          "name": "stdout",
          "text": [
            "Drive already mounted at /content/drive; to attempt to forcibly remount, call drive.mount(\"/content/drive\", force_remount=True).\n"
          ]
        }
      ],
      "source": [
        "from google.colab import drive\n",
        "drive.mount('/content/drive')"
      ]
    },
    {
      "cell_type": "code",
      "source": [
        "%cd /content/drive/MyDrive"
      ],
      "metadata": {
        "colab": {
          "base_uri": "https://localhost:8080/"
        },
        "id": "eu0ziHqJpL5v",
        "outputId": "182f7beb-c71b-46fc-a807-7b8b39a16c4d"
      },
      "execution_count": null,
      "outputs": [
        {
          "output_type": "stream",
          "name": "stdout",
          "text": [
            "/content/drive/MyDrive\n"
          ]
        }
      ]
    },
    {
      "cell_type": "markdown",
      "metadata": {
        "id": "ra3RB22DWEER"
      },
      "source": [
        "## 실습용 Bioconda 환경 설치하기\n",
        "Google CoLab에서 접속하지 않고, 본인 컴퓨터 또는 연구실 워크스테이션 등 다른 컴퓨터를 쓰시는 경우에는 따로 실습용 [Bioconda](https://bioconda.github.io/) 환경을 구축해서 이 노트북을 그 환경 안에서 띄우시면 됩니다.\n",
        "\n",
        "CoLab을 쓰시는 분들은 다음에 따라서 실습용 프로그램들을 쉽게 설치할 수 있도록 [Bioconda](https://bioconda.github.io/) 환경을 만듭니다. 실행하고 진행상황을 관찰하다가 에러로 보이는 것이 있으면 잘 읽어보고 해결합니다.\n",
        "\n",
        "파이썬 모듈들은 Colab쪽의 파이썬 인터프리터를 바꿀 수 없기 때문에 Conda에 설치하더라도 사용하기 어렵습니다. 파이썬 모듈은 `pip` 명령어로 설치하시면 Colab에서 불러와서 사용할 수 있습니다.\n",
        "\n",
        "환경 초기화에 관련된 스크립트는 [GitHub 프로젝트](https://github.com/hyeshik/colab-biolab)에 있습니다."
      ]
    },
    {
      "cell_type": "markdown",
      "metadata": {
        "id": "eDfJ0fCzsTTb"
      },
      "source": [
        "설정이 끝났으면, 이제 콘솔을 열어서 터미널로 접속할 수 있는 통로를 열어줍니다."
      ]
    },
    {
      "cell_type": "code",
      "source": [
        "!git clone https://github.com/hyeshik/colab-biolab.git\n",
        "!cd colab-biolab && bash tools/setup.sh\n",
        "exec(open('colab-biolab/tools/activate_conda.py').read())"
      ],
      "metadata": {
        "colab": {
          "base_uri": "https://localhost:8080/"
        },
        "id": "4Khz3kEU63rN",
        "outputId": "f91cc2ce-2cff-4586-821c-14925fc6e356"
      },
      "execution_count": null,
      "outputs": [
        {
          "output_type": "stream",
          "name": "stdout",
          "text": [
            "Cloning into 'colab-biolab'...\n",
            "remote: Enumerating objects: 69, done.\u001b[K\n",
            "remote: Counting objects: 100% (69/69), done.\u001b[K\n",
            "remote: Compressing objects: 100% (43/43), done.\u001b[K\n",
            "remote: Total 69 (delta 22), reused 54 (delta 13), pack-reused 0\u001b[K\n",
            "Unpacking objects: 100% (69/69), done.\n",
            "./\n",
            "./root/\n",
            "./root/.bashrc.biolab\n",
            "./root/.bin.priority/\n",
            "./root/.bin.priority/pip\n",
            "./root/.bin.priority/pip2\n",
            "./root/.bin.priority/pip3\n",
            "./root/.condarc\n",
            "./root/.profile\n",
            "./root/.tmux.conf\n",
            "./root/.vimrc\n",
            "--2022-05-05 11:12:34--  https://repo.anaconda.com/miniconda/Miniconda3-latest-Linux-x86_64.sh\n",
            "Resolving repo.anaconda.com (repo.anaconda.com)... 104.16.130.3, 104.16.131.3, 2606:4700::6810:8303, ...\n",
            "Connecting to repo.anaconda.com (repo.anaconda.com)|104.16.130.3|:443... connected.\n",
            "HTTP request sent, awaiting response... 200 OK\n",
            "Length: 75660608 (72M) [application/x-sh]\n",
            "Saving to: ‘miniconda3.sh’\n",
            "\n",
            "miniconda3.sh       100%[===================>]  72.16M  31.0MB/s    in 2.3s    \n",
            "\n",
            "2022-05-05 11:12:37 (31.0 MB/s) - ‘miniconda3.sh’ saved [75660608/75660608]\n",
            "\n",
            "PREFIX=/root/conda\n",
            "Unpacking payload ...\n",
            "Collecting package metadata (current_repodata.json): - \b\b\\ \b\b| \b\bdone\n",
            "Solving environment: - \b\b\\ \b\b| \b\b/ \b\bdone\n",
            "\n",
            "# All requested packages already installed.\n",
            "\n",
            "installation finished.\n",
            "WARNING:\n",
            "    You currently have a PYTHONPATH environment variable set. This may cause\n",
            "    unexpected behavior when running the Python interpreter in Miniconda3.\n",
            "    For best results, please verify that your PYTHONPATH only points to\n",
            "    directories of packages that are compatible with the Python interpreter\n",
            "    in Miniconda3: /root/conda\n",
            "Collecting package metadata (current_repodata.json): - \b\b\\ \b\b| \b\b/ \b\b- \b\b\\ \b\b| \b\b/ \b\b- \b\b\\ \b\b| \b\b/ \b\b- \b\b\\ \b\b| \b\b/ \b\b- \b\b\\ \b\b| \b\b/ \b\b- \b\b\\ \b\b| \b\b/ \b\b- \b\b\\ \b\b| \b\bdone\n",
            "Solving environment: - \b\b\\ \b\b| \b\b/ \b\b- \b\b\\ \b\b| \b\b/ \b\b- \b\b\\ \b\b| \b\b/ \b\b- \b\b\\ \b\b| \b\b/ \b\b- \b\b\\ \b\b| \b\b/ \b\b- \b\b\\ \b\b| \b\b/ \b\b- \b\b\\ \b\b| \b\b/ \b\b- \b\b\\ \b\b| \b\b/ \b\b- \b\b\\ \b\b| \b\b/ \b\b- \b\b\\ \b\b| \b\b/ \b\b- \b\b\\ \b\b| \b\b/ \b\b- \b\b\\ \b\b| \b\b/ \b\b- \b\b\\ \b\b| \b\b/ \b\b- \b\b\\ \b\b| \b\b/ \b\b- \b\b\\ \b\b| \b\b/ \b\b- \b\b\\ \b\b| \b\b/ \b\b- \b\b\\ \b\b| \b\b/ \b\b- \b\b\\ \b\b| \b\b/ \b\b- \b\b\\ \b\b| \b\b/ \b\b- \b\b\\ \b\b| \b\b/ \b\b- \b\b\\ \b\b| \b\b/ \b\b- \b\b\\ \b\b| \b\b/ \b\b- \b\b\\ \b\b| \b\b/ \b\b- \b\b\\ \b\b| \b\b/ \b\bdone\n",
            "\n",
            "\n",
            "==> WARNING: A newer version of conda exists. <==\n",
            "  current version: 4.11.0\n",
            "  latest version: 4.12.0\n",
            "\n",
            "Please update conda by running\n",
            "\n",
            "    $ conda update -n base -c defaults conda\n",
            "\n",
            "\n",
            "\n",
            "## Package Plan ##\n",
            "\n",
            "  environment location: /root/conda/envs/lab\n",
            "\n",
            "  added / updated specs:\n",
            "    - bedtools\n",
            "    - biopython\n",
            "    - bwa\n",
            "    - cython\n",
            "    - matplotlib\n",
            "    - numpy\n",
            "    - pandas\n",
            "    - pip\n",
            "    - pysam\n",
            "    - samtools\n",
            "    - scipy\n",
            "    - star\n",
            "\n",
            "\n",
            "The following NEW packages will be INSTALLED:\n",
            "\n",
            "  _libgcc_mutex      conda-forge/linux-64::_libgcc_mutex-0.1-conda_forge\n",
            "  _openmp_mutex      conda-forge/linux-64::_openmp_mutex-4.5-2_gnu\n",
            "  alsa-lib           conda-forge/linux-64::alsa-lib-1.2.3.2-h166bdaf_0\n",
            "  bedtools           bioconda/linux-64::bedtools-2.30.0-h468198e_3\n",
            "  biopython          conda-forge/linux-64::biopython-1.79-py39h3811e60_1\n",
            "  brotli             conda-forge/linux-64::brotli-1.0.9-h166bdaf_7\n",
            "  brotli-bin         conda-forge/linux-64::brotli-bin-1.0.9-h166bdaf_7\n",
            "  bwa                bioconda/linux-64::bwa-0.7.17-h7132678_9\n",
            "  bzip2              conda-forge/linux-64::bzip2-1.0.8-h7f98852_4\n",
            "  c-ares             conda-forge/linux-64::c-ares-1.18.1-h7f98852_0\n",
            "  ca-certificates    conda-forge/linux-64::ca-certificates-2021.10.8-ha878542_0\n",
            "  certifi            conda-forge/linux-64::certifi-2021.10.8-py39hf3d152e_2\n",
            "  cycler             conda-forge/noarch::cycler-0.11.0-pyhd8ed1ab_0\n",
            "  cython             conda-forge/linux-64::cython-0.29.28-py39h5a03fae_2\n",
            "  dbus               conda-forge/linux-64::dbus-1.13.6-h5008d03_3\n",
            "  expat              conda-forge/linux-64::expat-2.4.8-h27087fc_0\n",
            "  fontconfig         conda-forge/linux-64::fontconfig-2.14.0-h8e229c2_0\n",
            "  fonttools          conda-forge/linux-64::fonttools-4.33.3-py39hb9d737c_0\n",
            "  freetype           conda-forge/linux-64::freetype-2.10.4-h0708190_1\n",
            "  gettext            conda-forge/linux-64::gettext-0.19.8.1-h73d1719_1008\n",
            "  giflib             conda-forge/linux-64::giflib-5.2.1-h36c2ea0_2\n",
            "  gst-plugins-base   conda-forge/linux-64::gst-plugins-base-1.18.5-hf529b03_3\n",
            "  gstreamer          conda-forge/linux-64::gstreamer-1.18.5-h9f60fe5_3\n",
            "  htslib             bioconda/linux-64::htslib-1.15.1-h9753748_0\n",
            "  icu                conda-forge/linux-64::icu-68.2-h9c3ff4c_0\n",
            "  jbig               conda-forge/linux-64::jbig-2.1-h7f98852_2003\n",
            "  jpeg               conda-forge/linux-64::jpeg-9e-h166bdaf_1\n",
            "  keyutils           conda-forge/linux-64::keyutils-1.6.1-h166bdaf_0\n",
            "  kiwisolver         conda-forge/linux-64::kiwisolver-1.4.2-py39hf939315_1\n",
            "  krb5               conda-forge/linux-64::krb5-1.19.3-h3790be6_0\n",
            "  lcms2              conda-forge/linux-64::lcms2-2.12-hddcbb42_0\n",
            "  ld_impl_linux-64   conda-forge/linux-64::ld_impl_linux-64-2.36.1-hea4e1c9_2\n",
            "  lerc               conda-forge/linux-64::lerc-3.0-h9c3ff4c_0\n",
            "  libblas            conda-forge/linux-64::libblas-3.9.0-14_linux64_openblas\n",
            "  libbrotlicommon    conda-forge/linux-64::libbrotlicommon-1.0.9-h166bdaf_7\n",
            "  libbrotlidec       conda-forge/linux-64::libbrotlidec-1.0.9-h166bdaf_7\n",
            "  libbrotlienc       conda-forge/linux-64::libbrotlienc-1.0.9-h166bdaf_7\n",
            "  libcblas           conda-forge/linux-64::libcblas-3.9.0-14_linux64_openblas\n",
            "  libclang           conda-forge/linux-64::libclang-11.1.0-default_ha53f305_1\n",
            "  libcurl            conda-forge/linux-64::libcurl-7.83.0-h7bff187_0\n",
            "  libdeflate         conda-forge/linux-64::libdeflate-1.10-h7f98852_0\n",
            "  libedit            conda-forge/linux-64::libedit-3.1.20191231-he28a2e2_2\n",
            "  libev              conda-forge/linux-64::libev-4.33-h516909a_1\n",
            "  libevent           conda-forge/linux-64::libevent-2.1.10-h9b69904_4\n",
            "  libffi             conda-forge/linux-64::libffi-3.4.2-h7f98852_5\n",
            "  libgcc-ng          conda-forge/linux-64::libgcc-ng-11.2.0-h1d223b6_16\n",
            "  libgfortran-ng     conda-forge/linux-64::libgfortran-ng-11.2.0-h69a702a_16\n",
            "  libgfortran5       conda-forge/linux-64::libgfortran5-11.2.0-h5c6108e_16\n",
            "  libglib            conda-forge/linux-64::libglib-2.70.2-h174f98d_4\n",
            "  libgomp            conda-forge/linux-64::libgomp-11.2.0-h1d223b6_16\n",
            "  libiconv           conda-forge/linux-64::libiconv-1.16-h516909a_0\n",
            "  liblapack          conda-forge/linux-64::liblapack-3.9.0-14_linux64_openblas\n",
            "  libllvm11          conda-forge/linux-64::libllvm11-11.1.0-hf817b99_3\n",
            "  libnghttp2         conda-forge/linux-64::libnghttp2-1.47.0-h727a467_0\n",
            "  libnsl             conda-forge/linux-64::libnsl-2.0.0-h7f98852_0\n",
            "  libogg             conda-forge/linux-64::libogg-1.3.4-h7f98852_1\n",
            "  libopenblas        conda-forge/linux-64::libopenblas-0.3.20-pthreads_h78a6416_0\n",
            "  libopus            conda-forge/linux-64::libopus-1.3.1-h7f98852_1\n",
            "  libpng             conda-forge/linux-64::libpng-1.6.37-h21135ba_2\n",
            "  libpq              conda-forge/linux-64::libpq-13.5-hd57d9b9_1\n",
            "  libssh2            conda-forge/linux-64::libssh2-1.10.0-ha56f1ee_2\n",
            "  libstdcxx-ng       conda-forge/linux-64::libstdcxx-ng-11.2.0-he4da1e4_16\n",
            "  libtiff            conda-forge/linux-64::libtiff-4.3.0-h542a066_3\n",
            "  libuuid            conda-forge/linux-64::libuuid-2.32.1-h7f98852_1000\n",
            "  libvorbis          conda-forge/linux-64::libvorbis-1.3.7-h9c3ff4c_0\n",
            "  libwebp            conda-forge/linux-64::libwebp-1.2.2-h3452ae3_0\n",
            "  libwebp-base       conda-forge/linux-64::libwebp-base-1.2.2-h7f98852_1\n",
            "  libxcb             conda-forge/linux-64::libxcb-1.13-h7f98852_1004\n",
            "  libxkbcommon       conda-forge/linux-64::libxkbcommon-1.0.3-he3ba5ed_0\n",
            "  libxml2            conda-forge/linux-64::libxml2-2.9.10-h72842e0_4\n",
            "  libzlib            conda-forge/linux-64::libzlib-1.2.11-h166bdaf_1014\n",
            "  lz4-c              conda-forge/linux-64::lz4-c-1.9.3-h9c3ff4c_1\n",
            "  matplotlib         conda-forge/linux-64::matplotlib-3.5.2-py39hf3d152e_0\n",
            "  matplotlib-base    conda-forge/linux-64::matplotlib-base-3.5.2-py39h700656a_0\n",
            "  munkres            conda-forge/noarch::munkres-1.1.4-pyh9f0ad1d_0\n",
            "  mysql-common       conda-forge/linux-64::mysql-common-8.0.29-haf5c9bc_0\n",
            "  mysql-libs         conda-forge/linux-64::mysql-libs-8.0.29-h28c427c_0\n",
            "  ncurses            conda-forge/linux-64::ncurses-6.3-h27087fc_1\n",
            "  nspr               conda-forge/linux-64::nspr-4.32-h9c3ff4c_1\n",
            "  nss                conda-forge/linux-64::nss-3.77-h2350873_0\n",
            "  numpy              conda-forge/linux-64::numpy-1.22.3-py39hc58783e_2\n",
            "  openjpeg           conda-forge/linux-64::openjpeg-2.4.0-hb52868f_1\n",
            "  openssl            conda-forge/linux-64::openssl-1.1.1o-h166bdaf_0\n",
            "  packaging          conda-forge/noarch::packaging-21.3-pyhd8ed1ab_0\n",
            "  pandas             conda-forge/linux-64::pandas-1.4.2-py39h1832856_1\n",
            "  pcre               conda-forge/linux-64::pcre-8.45-h9c3ff4c_0\n",
            "  perl               conda-forge/linux-64::perl-5.32.1-2_h7f98852_perl5\n",
            "  pillow             conda-forge/linux-64::pillow-9.1.0-py39hae2aec6_2\n",
            "  pip                conda-forge/noarch::pip-22.0.4-pyhd8ed1ab_0\n",
            "  pthread-stubs      conda-forge/linux-64::pthread-stubs-0.4-h36c2ea0_1001\n",
            "  pyparsing          conda-forge/noarch::pyparsing-3.0.8-pyhd8ed1ab_0\n",
            "  pyqt               conda-forge/linux-64::pyqt-5.12.3-py39hf3d152e_8\n",
            "  pyqt-impl          conda-forge/linux-64::pyqt-impl-5.12.3-py39hde8b62d_8\n",
            "  pyqt5-sip          conda-forge/linux-64::pyqt5-sip-4.19.18-py39he80948d_8\n",
            "  pyqtchart          conda-forge/linux-64::pyqtchart-5.12-py39h0fcd23e_8\n",
            "  pyqtwebengine      conda-forge/linux-64::pyqtwebengine-5.12.1-py39h0fcd23e_8\n",
            "  pysam              bioconda/linux-64::pysam-0.19.0-py39h5030a8b_0\n",
            "  python             conda-forge/linux-64::python-3.9.12-h9a8a25e_1_cpython\n",
            "  python-dateutil    conda-forge/noarch::python-dateutil-2.8.2-pyhd8ed1ab_0\n",
            "  python_abi         conda-forge/linux-64::python_abi-3.9-2_cp39\n",
            "  pytz               conda-forge/noarch::pytz-2022.1-pyhd8ed1ab_0\n",
            "  qt                 conda-forge/linux-64::qt-5.12.9-hda022c4_4\n",
            "  readline           conda-forge/linux-64::readline-8.1-h46c0cb4_0\n",
            "  samtools           bioconda/linux-64::samtools-1.15.1-h1170115_0\n",
            "  scipy              conda-forge/linux-64::scipy-1.8.0-py39hee8e79c_1\n",
            "  setuptools         conda-forge/linux-64::setuptools-62.1.0-py39hf3d152e_0\n",
            "  six                conda-forge/noarch::six-1.16.0-pyh6c4a22f_0\n",
            "  sqlite             conda-forge/linux-64::sqlite-3.38.4-h4ff8645_0\n",
            "  star               bioconda/linux-64::star-2.7.10a-h9ee0642_0\n",
            "  tk                 conda-forge/linux-64::tk-8.6.12-h27826a3_0\n",
            "  tornado            conda-forge/linux-64::tornado-6.1-py39hb9d737c_3\n",
            "  tzdata             conda-forge/noarch::tzdata-2022a-h191b570_0\n",
            "  unicodedata2       conda-forge/linux-64::unicodedata2-14.0.0-py39hb9d737c_1\n",
            "  wheel              conda-forge/noarch::wheel-0.37.1-pyhd8ed1ab_0\n",
            "  xorg-libxau        conda-forge/linux-64::xorg-libxau-1.0.9-h7f98852_0\n",
            "  xorg-libxdmcp      conda-forge/linux-64::xorg-libxdmcp-1.1.3-h7f98852_0\n",
            "  xz                 conda-forge/linux-64::xz-5.2.5-h516909a_1\n",
            "  zlib               conda-forge/linux-64::zlib-1.2.11-h166bdaf_1014\n",
            "  zstd               conda-forge/linux-64::zstd-1.5.2-ha95c52a_0\n",
            "\n",
            "\n",
            "Preparing transaction: \\ \b\b| \b\b/ \b\b- \b\b\\ \b\b| \b\b/ \b\b- \b\b\\ \b\b| \b\b/ \b\b- \b\bdone\n",
            "Verifying transaction: | \b\b/ \b\b- \b\b\\ \b\b| \b\b/ \b\b- \b\b\\ \b\b| \b\b/ \b\b- \b\b\\ \b\b| \b\b/ \b\b- \b\b\\ \b\b| \b\b/ \b\b- \b\b\\ \b\b| \b\b/ \b\b- \b\b\\ \b\b| \b\b/ \b\b- \b\b\\ \b\b| \b\b/ \b\b- \b\b\\ \b\b| \b\b/ \b\b- \b\b\\ \b\b| \b\b/ \b\b- \b\b\\ \b\b| \b\b/ \b\b- \b\b\\ \b\b| \b\b/ \b\b- \b\b\\ \b\b| \b\b/ \b\b- \b\b\\ \b\b| \b\b/ \b\bdone\n",
            "Executing transaction: \\ \b\b| \b\b/ \b\b- \b\b\\ \b\b| \b\b/ \b\b- \b\b\\ \b\b| \b\b/ \b\b- \b\b\\ \b\b| \b\b/ \b\b- \b\b\\ \b\b| \b\b/ \b\b- \b\b\\ \b\b| \b\b/ \b\b- \b\b\\ \b\b| \b\b/ \b\b- \b\b\\ \b\b| \b\b/ \b\b- \b\b\\ \b\b| \b\b/ \b\b- \b\b\\ \b\b| \b\b/ \b\b- \b\b\\ \b\b| \b\b/ \b\b- \b\b\\ \b\b| \b\b/ \b\b- \b\b\\ \b\bdone\n",
            "#\n",
            "# To activate this environment, use\n",
            "#\n",
            "#     $ conda activate lab\n",
            "#\n",
            "# To deactivate an active environment, use\n",
            "#\n",
            "#     $ conda deactivate\n",
            "\n",
            "Activated conda environment `lab'!\n"
          ]
        }
      ]
    },
    {
      "cell_type": "markdown",
      "metadata": {
        "id": "J2LqGiP_N26s"
      },
      "source": [
        "## 시퀀싱 데이터 다운로드\n",
        "이제 실습 수업에서 필요한 시퀀싱 데이터를 다운로드 받아서 설치합시다. 드라이브 공간만 충분하면 데이터는 계속 저장돼 있기 때문에 학기 전체를 통해서 딱 한 번만 하시면 됩니다. Colab에서는 작업용 데이터를 Google Drive 폴더 아래의 `binfo-datapack1`에 저장합니다. 실습용 데이터는 `/content/drive/MyDrive/binfo1-datapack1`에 풀리게 됩니다.\n",
        "\n",
        "### (Option 1) Google CoLab에서 접속한 경우\n",
        "1. [Google Drive 공유폴더](https://drive.google.com/drive/folders/1Y190lbO42VEzjjQkgoxNf_EcZJlHyZa1?usp=sharing)에 접속합니다.\n",
        "1. 중간 제목줄의 \"binfo1-datapack1 ▾\"에서 ▾을 누릅니다.\n",
        "1. Add shortcut to Drive를 누릅니다.\n",
        "1. My Drive를 선택해서 ADD SHORTCUT 버튼을 누릅니다.\n",
        "1. 다음 cell을 실행해서 링크가 제대로 들어왔는지 확인합니다. (바로 확인되지 않으면 3–5분 정도 기다렸다가 하면 됩니다.)\n",
        "1. 제대로 확인되면 다음으로 넘어갑니다.\n"
      ]
    },
    {
      "cell_type": "code",
      "execution_count": null,
      "metadata": {
        "id": "D24wKYriG8tI",
        "colab": {
          "base_uri": "https://localhost:8080/"
        },
        "outputId": "68547b5c-c4f4-4968-e147-600dbede5140"
      },
      "outputs": [
        {
          "output_type": "stream",
          "name": "stdout",
          "text": [
            "total 7136706\n",
            "-r-------- 1 root root 1370036258 May  6  2021 CLIP-35L33G.bam\n",
            "-r-------- 1 root root    3118336 May  6  2021 CLIP-35L33G.bam.bai\n",
            "-r-------- 1 root root  883334756 May  5  2021 gencode.gtf\n",
            "-r-------- 1 root root 1003658801 May  6  2021 RNA-control.bam\n",
            "-r-------- 1 root root    2276104 May  6  2021 RNA-control.bam.bai\n",
            "-r-------- 1 root root 1260991122 May  6  2021 RNA-siLin28a.bam\n",
            "-r-------- 1 root root    2710744 May  6  2021 RNA-siLin28a.bam.bai\n",
            "-r-------- 1 root root  981684502 May  6  2021 RNA-siLuc.bam\n",
            "-r-------- 1 root root    2606104 May  6  2021 RNA-siLuc.bam.bai\n",
            "-r-------- 1 root root  737352902 May  6  2021 RPF-siLin28a.bam\n",
            "-r-------- 1 root root    2482768 May  6  2021 RPF-siLin28a.bam.bai\n",
            "-r-------- 1 root root 1055123479 May  6  2021 RPF-siLuc.bam\n",
            "-r-------- 1 root root    2605912 May  6  2021 RPF-siLuc.bam.bai\n"
          ]
        }
      ],
      "source": [
        "!ls -al /content/drive/MyDrive/binfo1-datapack1/"
      ]
    },
    {
      "cell_type": "markdown",
      "metadata": {
        "id": "OZ0KkKrmG-M4"
      },
      "source": [
        "### (Option 2) CoLab외의 다른 환경에서 접속한 경우\n",
        "본인 컴퓨터나 연구실 워크스테이션 등에서 작업하는 경우에는 다음 명령어로 다운로드 받으시면 됩니다. 첫 번째에는 wget이 접속오류를 내는 경우가 많으니, 접속에러가 발생하면 다시 한 번 실행해 보세요. `/content/drive/Mydrive` 부분은 원하는 저장 경로로 바꿔서 지정하시면 됩니다."
      ]
    },
    {
      "cell_type": "code",
      "execution_count": null,
      "metadata": {
        "id": "kIN484e7NSxR",
        "colab": {
          "base_uri": "https://localhost:8080/"
        },
        "outputId": "00ff30ce-6826-48f3-e47b-e949b85ecc51"
      },
      "outputs": [
        {
          "output_type": "stream",
          "name": "stdout",
          "text": [
            "--2022-05-04 09:32:31--  https://hyeshik.qbio.io/binfo/binfo1-datapack1.tar\n",
            "Resolving hyeshik.qbio.io (hyeshik.qbio.io)... 147.47.203.129\n",
            "Connecting to hyeshik.qbio.io (hyeshik.qbio.io)|147.47.203.129|:443... connected.\n",
            "Unable to establish SSL connection.\n",
            "tar: This does not look like a tar archive\n",
            "tar: Exiting with failure status due to previous errors\n"
          ]
        }
      ],
      "source": [
        "!wget -O - --no-check-certificate https://hyeshik.qbio.io/binfo/binfo1-datapack1.tar | tar -C /content/drive/MyDrive -xf -"
      ]
    },
    {
      "cell_type": "markdown",
      "metadata": {
        "id": "kiQ5y4dTD27M"
      },
      "source": [
        "그리고, GENCODE Annotation 데이터도 미리 받아서 저장해 둡니다. 에러가 나면 다시 한 번 실행해 봅니다."
      ]
    },
    {
      "cell_type": "code",
      "execution_count": null,
      "metadata": {
        "id": "Efdd3x8hDMh4",
        "colab": {
          "base_uri": "https://localhost:8080/"
        },
        "outputId": "4ff1e29b-c02a-4a9c-e6a9-3691c010ca21"
      },
      "outputs": [
        {
          "output_type": "stream",
          "name": "stdout",
          "text": [
            "/content/drive/MyDrive/binfo1-datapack1/gencode.gtf.gz: Read-only file system\n"
          ]
        }
      ],
      "source": [
        "!wget --no-check-certificate -O /content/drive/MyDrive/binfo1-datapack1/gencode.gtf.gz http://ftp.ebi.ac.uk/pub/databases/gencode/Gencode_mouse/release_M27/gencode.vM27.annotation.gtf.gz"
      ]
    },
    {
      "cell_type": "markdown",
      "metadata": {
        "id": "O3rM9ds6EMhB"
      },
      "source": [
        "다루기 쉽도록 Annotation 압축을 풉니다."
      ]
    },
    {
      "cell_type": "code",
      "execution_count": null,
      "metadata": {
        "id": "KNyuSM6PEQvX",
        "colab": {
          "base_uri": "https://localhost:8080/"
        },
        "outputId": "d6e4f277-a51f-4f50-d4af-5330cdfe1592"
      },
      "outputs": [
        {
          "output_type": "stream",
          "name": "stdout",
          "text": [
            "gzip: /content/drive/MyDrive/binfo1-datapack1/gencode.gtf.gz: No such file or directory\n"
          ]
        }
      ],
      "source": [
        "!gunzip /content/drive/MyDrive/binfo1-datapack1/gencode.gtf.gz"
      ]
    },
    {
      "cell_type": "markdown",
      "metadata": {
        "id": "lnlM-S70C-tY"
      },
      "source": [
        "### 파일 체크섬 확인\n",
        "\n",
        "받은 데이터의 MD5 체크섬을 확인합니다. 한참 걸립니다. 각 파일들의 원래 체크섬은 다음과 같습니다. 한 번 비교해 보세요.\n",
        "\n",
        "```\n",
        "140aaf30bcb9276cc716f8699f04ddd6  CLIP-35L33G.bam\n",
        "f1b3336ed7e2f97d562dcc71641251bd  CLIP-35L33G.bam.bai\n",
        "328883a73d507eafbf5b60bd6b906201  RNA-control.bam\n",
        "02073818e2f398a73c3b76e5169de1ca  RNA-control.bam.bai\n",
        "b09550d09d6c2a4ce27f0226f426fdb1  RNA-siLin28a.bam\n",
        "fef112c727244060ea62d3f2564a07f6  RNA-siLin28a.bam.bai\n",
        "28bbd0c47d725669340c784f1b772c01  RNA-siLuc.bam\n",
        "43590fdc4d81905c0432e0d1cb8cfd5b  RNA-siLuc.bam.bai\n",
        "5c08a9297307bc83259e658c4474f0cc  RPF-siLin28a.bam\n",
        "a1bb3e29be412dfd7fd8d16b1b1acc4c  RPF-siLin28a.bam.bai\n",
        "f2eebf50943024d0116c9cd3e744c707  RPF-siLuc.bam\n",
        "dc24f69e8f571fc8be30f28ce5b84fcd  RPF-siLuc.bam.bai\n",
        "```"
      ]
    },
    {
      "cell_type": "code",
      "execution_count": null,
      "metadata": {
        "id": "g8lC_YJRBCPf",
        "colab": {
          "base_uri": "https://localhost:8080/"
        },
        "outputId": "dabc6e52-4a5a-4715-b4c0-c22c66f66bb8"
      },
      "outputs": [
        {
          "output_type": "stream",
          "name": "stdout",
          "text": [
            "140aaf30bcb9276cc716f8699f04ddd6  drive/MyDrive/binfo1-datapack1/CLIP-35L33G.bam\n",
            "f1b3336ed7e2f97d562dcc71641251bd  drive/MyDrive/binfo1-datapack1/CLIP-35L33G.bam.bai\n",
            "d54d428f5872030c4ffc43058709b896  drive/MyDrive/binfo1-datapack1/gencode.gtf\n",
            "328883a73d507eafbf5b60bd6b906201  drive/MyDrive/binfo1-datapack1/RNA-control.bam\n",
            "02073818e2f398a73c3b76e5169de1ca  drive/MyDrive/binfo1-datapack1/RNA-control.bam.bai\n",
            "b09550d09d6c2a4ce27f0226f426fdb1  drive/MyDrive/binfo1-datapack1/RNA-siLin28a.bam\n",
            "fef112c727244060ea62d3f2564a07f6  drive/MyDrive/binfo1-datapack1/RNA-siLin28a.bam.bai\n",
            "28bbd0c47d725669340c784f1b772c01  drive/MyDrive/binfo1-datapack1/RNA-siLuc.bam\n",
            "43590fdc4d81905c0432e0d1cb8cfd5b  drive/MyDrive/binfo1-datapack1/RNA-siLuc.bam.bai\n",
            "5c08a9297307bc83259e658c4474f0cc  drive/MyDrive/binfo1-datapack1/RPF-siLin28a.bam\n",
            "a1bb3e29be412dfd7fd8d16b1b1acc4c  drive/MyDrive/binfo1-datapack1/RPF-siLin28a.bam.bai\n",
            "f2eebf50943024d0116c9cd3e744c707  drive/MyDrive/binfo1-datapack1/RPF-siLuc.bam\n",
            "dc24f69e8f571fc8be30f28ce5b84fcd  drive/MyDrive/binfo1-datapack1/RPF-siLuc.bam.bai\n"
          ]
        }
      ],
      "source": [
        "!md5sum drive/MyDrive/binfo1-datapack1/*"
      ]
    },
    {
      "cell_type": "code",
      "execution_count": null,
      "metadata": {
        "id": "PVXzIs5FE3Q4",
        "colab": {
          "base_uri": "https://localhost:8080/"
        },
        "outputId": "9d97e6af-fd50-418e-e4be-994bc73b37ed"
      },
      "outputs": [
        {
          "output_type": "stream",
          "name": "stdout",
          "text": [
            "lrw------- 1 root root 0 May  3 12:59 /content/drive/MyDrive/binfo1-datapack1 -> /content/drive/.shortcut-targets-by-id/1Y190lbO42VEzjjQkgoxNf_EcZJlHyZa1/binfo1-datapack1\n"
          ]
        }
      ],
      "source": [
        "!ls -al /content/drive/MyDrive/binfo*"
      ]
    },
    {
      "cell_type": "markdown",
      "metadata": {
        "id": "ecEA1PPQUlIK"
      },
      "source": [
        "실습에 필요한 프로그램들 몇 가지를 추가로 설치합니다."
      ]
    },
    {
      "cell_type": "code",
      "execution_count": null,
      "metadata": {
        "id": "neteyWsWEKBy",
        "colab": {
          "base_uri": "https://localhost:8080/"
        },
        "outputId": "8eb71a7c-dc21-49eb-cd15-584c5074a846"
      },
      "outputs": [
        {
          "output_type": "stream",
          "name": "stdout",
          "text": [
            "Collecting package metadata (current_repodata.json): - \b\b\\ \b\b| \b\b/ \b\b- \b\b\\ \b\b| \b\b/ \b\b- \b\b\\ \b\b| \b\b/ \b\b- \b\b\\ \b\b| \b\b/ \b\b- \b\b\\ \b\b| \b\b/ \b\b- \b\b\\ \b\b| \b\b/ \b\b- \b\b\\ \b\b| \b\bdone\n",
            "Solving environment: - \b\b\\ \b\b| \b\b/ \b\b- \b\b\\ \b\b| \b\b/ \b\b- \b\b\\ \b\b| \b\b/ \b\b- \b\b\\ \b\b| \b\b/ \b\b- \b\b\\ \b\b| \b\b/ \b\b- \b\b\\ \b\b| \b\b/ \b\bdone\n",
            "\n",
            "\n",
            "==> WARNING: A newer version of conda exists. <==\n",
            "  current version: 4.11.0\n",
            "  latest version: 4.12.0\n",
            "\n",
            "Please update conda by running\n",
            "\n",
            "    $ conda update -n base -c defaults conda\n",
            "\n",
            "\n",
            "\n",
            "## Package Plan ##\n",
            "\n",
            "  environment location: /root/conda/envs/lab\n",
            "\n",
            "  added / updated specs:\n",
            "    - subread\n",
            "\n",
            "\n",
            "The following packages will be downloaded:\n",
            "\n",
            "    package                    |            build\n",
            "    ---------------------------|-----------------\n",
            "    subread-2.0.1              |       h7132678_2        22.9 MB  bioconda\n",
            "    ------------------------------------------------------------\n",
            "                                           Total:        22.9 MB\n",
            "\n",
            "The following NEW packages will be INSTALLED:\n",
            "\n",
            "  subread            bioconda/linux-64::subread-2.0.1-h7132678_2\n",
            "\n",
            "\n",
            "\n",
            "Downloading and Extracting Packages\n",
            "subread-2.0.1        | 22.9 MB   | : 100% 1.0/1 [00:04<00:00,  4.45s/it]               \n",
            "Preparing transaction: \\ \b\bdone\n",
            "Verifying transaction: / \b\b- \b\bdone\n",
            "Executing transaction: | \b\bdone\n"
          ]
        }
      ],
      "source": [
        "!conda install -y subread"
      ]
    },
    {
      "cell_type": "markdown",
      "metadata": {
        "id": "Oe_54MZrEi4y"
      },
      "source": [
        "## Transcript count table 마련하기\n",
        "\n",
        "제공된 alignment와 annotation 파일들을 이용해서 transcript별 read count를 구해봅니다. 실제 연구에서는 multi-mapping 등을 고려해야 하지만, 여기서는 단순화해서 모두 무시합니다. 데이터가 있는 곳으로 이동해서 작업합시다."
      ]
    },
    {
      "cell_type": "code",
      "execution_count": null,
      "metadata": {
        "id": "IANz6DmLUkA6",
        "colab": {
          "base_uri": "https://localhost:8080/"
        },
        "outputId": "14656067-9852-45b8-d748-b1a927833da6"
      },
      "outputs": [
        {
          "output_type": "stream",
          "name": "stdout",
          "text": [
            "/content/drive/.shortcut-targets-by-id/1Y190lbO42VEzjjQkgoxNf_EcZJlHyZa1/binfo1-datapack1\n"
          ]
        }
      ],
      "source": [
        "%cd /content/drive/MyDrive/binfo1-datapack1/"
      ]
    },
    {
      "cell_type": "code",
      "source": [
        "ls"
      ],
      "metadata": {
        "id": "gHa-9vuZOqce",
        "colab": {
          "base_uri": "https://localhost:8080/"
        },
        "outputId": "7b71d27a-35c6-43de-d865-ec07d5e971e3"
      },
      "execution_count": null,
      "outputs": [
        {
          "output_type": "stream",
          "name": "stdout",
          "text": [
            "CLIP-35L33G.bam      RNA-siLin28a.bam      RPF-siLin28a.bam.bai\n",
            "CLIP-35L33G.bam.bai  RNA-siLin28a.bam.bai  RPF-siLuc.bam\n",
            "gencode.gtf          RNA-siLuc.bam         RPF-siLuc.bam.bai\n",
            "RNA-control.bam      RNA-siLuc.bam.bai\n",
            "RNA-control.bam.bai  RPF-siLin28a.bam\n"
          ]
        }
      ]
    },
    {
      "cell_type": "code",
      "execution_count": null,
      "metadata": {
        "id": "5OrnDxegFAip",
        "colab": {
          "base_uri": "https://localhost:8080/"
        },
        "outputId": "456584f9-d1dc-404e-e83b-7194756cd374"
      },
      "outputs": [
        {
          "output_type": "stream",
          "name": "stdout",
          "text": [
            "\n",
            "       \u001b[44;37m ========== \u001b[0m\u001b[36m    _____ _    _ ____  _____  ______          _____  \n",
            "       \u001b[44;37m =====      \u001b[0m\u001b[36m   / ____| |  | |  _ \\|  __ \\|  ____|   /\\   |  __ \\ \n",
            "       \u001b[44;37m   =====    \u001b[0m\u001b[36m  | (___ | |  | | |_) | |__) | |__     /  \\  | |  | |\n",
            "       \u001b[44;37m     ====   \u001b[0m\u001b[36m   \\___ \\| |  | |  _ <|  _  /|  __|   / /\\ \\ | |  | |\n",
            "       \u001b[44;37m       ==== \u001b[0m\u001b[36m   ____) | |__| | |_) | | \\ \\| |____ / ____ \\| |__| |\n",
            "       \u001b[44;37m ========== \u001b[0m\u001b[36m  |_____/ \\____/|____/|_|  \\_\\______/_/    \\_\\_____/\u001b[0m\n",
            "\t  v2.0.1\n",
            "\n",
            "//==========================\u001b[36m featureCounts setting \u001b[0m===========================\\\\\n",
            "||  \u001b[0m                                                                          ||\n",
            "||             Input files : \u001b[36m6 BAM files  \u001b[0m \u001b[0m                                   ||\n",
            "||                           \u001b[32mo\u001b[36m CLIP-35L33G.bam\u001b[0m \u001b[0m                               ||\n",
            "||                           \u001b[32mo\u001b[36m RNA-control.bam\u001b[0m \u001b[0m                               ||\n",
            "||                           \u001b[32mo\u001b[36m RNA-siLin28a.bam\u001b[0m \u001b[0m                              ||\n",
            "||                           \u001b[32mo\u001b[36m RNA-siLuc.bam\u001b[0m \u001b[0m                                 ||\n",
            "||                           \u001b[32mo\u001b[36m RPF-siLin28a.bam\u001b[0m \u001b[0m                              ||\n",
            "||                           \u001b[32mo\u001b[36m RPF-siLuc.bam\u001b[0m \u001b[0m                                 ||\n",
            "||  \u001b[0m                                                                          ||\n",
            "||             Output file : \u001b[36mread-counts.txt\u001b[0m \u001b[0m                                 ||\n",
            "||                 Summary : \u001b[36mread-counts.txt.summary\u001b[0m \u001b[0m                         ||\n",
            "||              Annotation : \u001b[36mgencode.gtf (GTF)\u001b[0m \u001b[0m                               ||\n",
            "||      Dir for temp files : \u001b[36m/content/drive/MyDrive/Bioinformatics1\u001b[0m \u001b[0m          ||\n",
            "||  \u001b[0m                                                                          ||\n",
            "||                 Threads : \u001b[36m1\u001b[0m \u001b[0m                                               ||\n",
            "||                   Level : \u001b[36mmeta-feature level\u001b[0m \u001b[0m                              ||\n",
            "||              Paired-end : \u001b[36mno\u001b[0m \u001b[0m                                              ||\n",
            "||      Multimapping reads : \u001b[36mnot counted\u001b[0m \u001b[0m                                     ||\n",
            "|| Multi-overlapping reads : \u001b[36mnot counted\u001b[0m \u001b[0m                                     ||\n",
            "||   Min overlapping bases : \u001b[36m1\u001b[0m \u001b[0m                                               ||\n",
            "||  \u001b[0m                                                                          ||\n",
            "\\\\============================================================================//\n",
            "\n",
            "//=================================\u001b[36m Running \u001b[0m==================================\\\\\n",
            "||  \u001b[0m                                                                          ||\n",
            "|| Load annotation file gencode.gtf \u001b[0m... \u001b[0m                                      ||\n",
            "||    Features : \u001b[36m841952\u001b[0m \u001b[0m                                                      ||\n",
            "||    Meta-features : \u001b[36m55359\u001b[0m \u001b[0m                                                  ||\n",
            "||    Chromosomes/contigs : \u001b[36m22\u001b[0m \u001b[0m                                               ||\n",
            "||  \u001b[0m                                                                          ||\n",
            "|| Process BAM file CLIP-35L33G.bam... \u001b[0m                                       ||\n",
            "||    Single-end reads are included. \u001b[0m                                         ||\n",
            "||    Total alignments : \u001b[36m38880853\u001b[0m \u001b[0m                                            ||\n",
            "||    Successfully assigned alignments : \u001b[36m13630945 (35.1%)\u001b[0m \u001b[0m                    ||\n",
            "||    Running time : \u001b[36m0.82 minutes\u001b[0m \u001b[0m                                            ||\n",
            "||  \u001b[0m                                                                          ||\n",
            "|| Process BAM file RNA-control.bam... \u001b[0m                                       ||\n",
            "||    Single-end reads are included. \u001b[0m                                         ||\n",
            "||    Total alignments : \u001b[36m24971058\u001b[0m \u001b[0m                                            ||\n",
            "||    Successfully assigned alignments : \u001b[36m5200836 (20.8%)\u001b[0m \u001b[0m                     ||\n",
            "||    Running time : \u001b[36m0.58 minutes\u001b[0m \u001b[0m                                            ||\n",
            "||  \u001b[0m                                                                          ||\n",
            "|| Process BAM file RNA-siLin28a.bam... \u001b[0m                                      ||\n",
            "||    Single-end reads are included. \u001b[0m                                         ||\n",
            "||    Total alignments : \u001b[36m35108178\u001b[0m \u001b[0m                                            ||\n",
            "||    Successfully assigned alignments : \u001b[36m12338280 (35.1%)\u001b[0m \u001b[0m                    ||\n",
            "||    Running time : \u001b[36m0.77 minutes\u001b[0m \u001b[0m                                            ||\n",
            "||  \u001b[0m                                                                          ||\n",
            "|| Process BAM file RNA-siLuc.bam... \u001b[0m                                         ||\n",
            "||    Single-end reads are included. \u001b[0m                                         ||\n",
            "||    Total alignments : \u001b[36m28117241\u001b[0m \u001b[0m                                            ||\n",
            "||    Successfully assigned alignments : \u001b[36m9748787 (34.7%)\u001b[0m \u001b[0m                     ||\n",
            "||    Running time : \u001b[36m0.62 minutes\u001b[0m \u001b[0m                                            ||\n",
            "||  \u001b[0m                                                                          ||\n",
            "|| Process BAM file RPF-siLin28a.bam... \u001b[0m                                      ||\n",
            "||    Single-end reads are included. \u001b[0m                                         ||\n",
            "||    Total alignments : \u001b[36m30095551\u001b[0m \u001b[0m                                            ||\n",
            "||    Successfully assigned alignments : \u001b[36m10694162 (35.5%)\u001b[0m \u001b[0m                    ||\n",
            "||    Running time : \u001b[36m0.53 minutes\u001b[0m \u001b[0m                                            ||\n",
            "||  \u001b[0m                                                                          ||\n",
            "|| Process BAM file RPF-siLuc.bam... \u001b[0m                                         ||\n",
            "||    Single-end reads are included. \u001b[0m                                         ||\n",
            "||    Total alignments : \u001b[36m42002435\u001b[0m \u001b[0m                                            ||\n",
            "||    Successfully assigned alignments : \u001b[36m12932285 (30.8%)\u001b[0m \u001b[0m                    ||\n",
            "||    Running time : \u001b[36m0.75 minutes\u001b[0m \u001b[0m                                            ||\n",
            "||  \u001b[0m                                                                          ||\n",
            "|| Write the final count table. \u001b[0m                                              ||\n",
            "|| Write the read assignment summary. \u001b[0m                                        ||\n",
            "||  \u001b[0m                                                                          ||\n",
            "|| Summary of counting results can be found in file \"/content/drive/MyDrive/ \u001b[0m ||\n",
            "|| Bioinformatics1/read-counts.txt.summary\" \u001b[0m                                  ||\n",
            "||  \u001b[0m                                                                          ||\n",
            "\\\\============================================================================//\n",
            "\n"
          ]
        }
      ],
      "source": [
        "!featureCounts -a gencode.gtf -o /content/drive/MyDrive/Bioinformatics1/read-counts.txt *.bam"
      ]
    },
    {
      "cell_type": "markdown",
      "metadata": {
        "id": "b2yJztZvGl9Q"
      },
      "source": [
        "결과를 pandas로 읽어와 봅니다."
      ]
    },
    {
      "cell_type": "code",
      "execution_count": null,
      "metadata": {
        "id": "BMyNT3ARFAWi",
        "colab": {
          "base_uri": "https://localhost:8080/",
          "height": 318
        },
        "outputId": "e2fd9b75-3022-4c5a-962a-57a9e7424fa5"
      },
      "outputs": [
        {
          "output_type": "execute_result",
          "data": {
            "text/plain": [
              "                                                     Chr  \\\n",
              "Geneid                                                     \n",
              "ENSMUSG00000102693.2                                chr1   \n",
              "ENSMUSG00000064842.3                                chr1   \n",
              "ENSMUSG00000051951.6  chr1;chr1;chr1;chr1;chr1;chr1;chr1   \n",
              "ENSMUSG00000102851.2                                chr1   \n",
              "ENSMUSG00000103377.2                                chr1   \n",
              "\n",
              "                                                                  Start  \\\n",
              "Geneid                                                                    \n",
              "ENSMUSG00000102693.2                                            3143476   \n",
              "ENSMUSG00000064842.3                                            3172239   \n",
              "ENSMUSG00000051951.6  3276124;3276746;3283662;3283832;3284705;349192...   \n",
              "ENSMUSG00000102851.2                                            3322980   \n",
              "ENSMUSG00000103377.2                                            3435954   \n",
              "\n",
              "                                                                    End  \\\n",
              "Geneid                                                                    \n",
              "ENSMUSG00000102693.2                                            3144545   \n",
              "ENSMUSG00000064842.3                                            3172348   \n",
              "ENSMUSG00000051951.6  3277540;3277540;3285855;3286567;3287191;349212...   \n",
              "ENSMUSG00000102851.2                                            3323459   \n",
              "ENSMUSG00000103377.2                                            3438772   \n",
              "\n",
              "                             Strand  Length  CLIP-35L33G.bam  RNA-control.bam  \\\n",
              "Geneid                                                                          \n",
              "ENSMUSG00000102693.2              +    1070                0                0   \n",
              "ENSMUSG00000064842.3              +     110                0                0   \n",
              "ENSMUSG00000051951.6  -;-;-;-;-;-;-    6094                4                1   \n",
              "ENSMUSG00000102851.2              +     480                3                0   \n",
              "ENSMUSG00000103377.2              -    2819                0                0   \n",
              "\n",
              "                      RNA-siLin28a.bam  RNA-siLuc.bam  RPF-siLin28a.bam  \\\n",
              "Geneid                                                                    \n",
              "ENSMUSG00000102693.2                 0              0                 0   \n",
              "ENSMUSG00000064842.3                 0              0                 0   \n",
              "ENSMUSG00000051951.6                 1              1                 0   \n",
              "ENSMUSG00000102851.2                 0              0                 0   \n",
              "ENSMUSG00000103377.2                 0              0                 0   \n",
              "\n",
              "                      RPF-siLuc.bam  \n",
              "Geneid                               \n",
              "ENSMUSG00000102693.2              0  \n",
              "ENSMUSG00000064842.3              0  \n",
              "ENSMUSG00000051951.6              0  \n",
              "ENSMUSG00000102851.2              0  \n",
              "ENSMUSG00000103377.2              0  "
            ],
            "text/html": [
              "\n",
              "  <div id=\"df-ff44f5c8-74a8-4f95-a775-989e244c2cf8\">\n",
              "    <div class=\"colab-df-container\">\n",
              "      <div>\n",
              "<style scoped>\n",
              "    .dataframe tbody tr th:only-of-type {\n",
              "        vertical-align: middle;\n",
              "    }\n",
              "\n",
              "    .dataframe tbody tr th {\n",
              "        vertical-align: top;\n",
              "    }\n",
              "\n",
              "    .dataframe thead th {\n",
              "        text-align: right;\n",
              "    }\n",
              "</style>\n",
              "<table border=\"1\" class=\"dataframe\">\n",
              "  <thead>\n",
              "    <tr style=\"text-align: right;\">\n",
              "      <th></th>\n",
              "      <th>Chr</th>\n",
              "      <th>Start</th>\n",
              "      <th>End</th>\n",
              "      <th>Strand</th>\n",
              "      <th>Length</th>\n",
              "      <th>CLIP-35L33G.bam</th>\n",
              "      <th>RNA-control.bam</th>\n",
              "      <th>RNA-siLin28a.bam</th>\n",
              "      <th>RNA-siLuc.bam</th>\n",
              "      <th>RPF-siLin28a.bam</th>\n",
              "      <th>RPF-siLuc.bam</th>\n",
              "    </tr>\n",
              "    <tr>\n",
              "      <th>Geneid</th>\n",
              "      <th></th>\n",
              "      <th></th>\n",
              "      <th></th>\n",
              "      <th></th>\n",
              "      <th></th>\n",
              "      <th></th>\n",
              "      <th></th>\n",
              "      <th></th>\n",
              "      <th></th>\n",
              "      <th></th>\n",
              "      <th></th>\n",
              "    </tr>\n",
              "  </thead>\n",
              "  <tbody>\n",
              "    <tr>\n",
              "      <th>ENSMUSG00000102693.2</th>\n",
              "      <td>chr1</td>\n",
              "      <td>3143476</td>\n",
              "      <td>3144545</td>\n",
              "      <td>+</td>\n",
              "      <td>1070</td>\n",
              "      <td>0</td>\n",
              "      <td>0</td>\n",
              "      <td>0</td>\n",
              "      <td>0</td>\n",
              "      <td>0</td>\n",
              "      <td>0</td>\n",
              "    </tr>\n",
              "    <tr>\n",
              "      <th>ENSMUSG00000064842.3</th>\n",
              "      <td>chr1</td>\n",
              "      <td>3172239</td>\n",
              "      <td>3172348</td>\n",
              "      <td>+</td>\n",
              "      <td>110</td>\n",
              "      <td>0</td>\n",
              "      <td>0</td>\n",
              "      <td>0</td>\n",
              "      <td>0</td>\n",
              "      <td>0</td>\n",
              "      <td>0</td>\n",
              "    </tr>\n",
              "    <tr>\n",
              "      <th>ENSMUSG00000051951.6</th>\n",
              "      <td>chr1;chr1;chr1;chr1;chr1;chr1;chr1</td>\n",
              "      <td>3276124;3276746;3283662;3283832;3284705;349192...</td>\n",
              "      <td>3277540;3277540;3285855;3286567;3287191;349212...</td>\n",
              "      <td>-;-;-;-;-;-;-</td>\n",
              "      <td>6094</td>\n",
              "      <td>4</td>\n",
              "      <td>1</td>\n",
              "      <td>1</td>\n",
              "      <td>1</td>\n",
              "      <td>0</td>\n",
              "      <td>0</td>\n",
              "    </tr>\n",
              "    <tr>\n",
              "      <th>ENSMUSG00000102851.2</th>\n",
              "      <td>chr1</td>\n",
              "      <td>3322980</td>\n",
              "      <td>3323459</td>\n",
              "      <td>+</td>\n",
              "      <td>480</td>\n",
              "      <td>3</td>\n",
              "      <td>0</td>\n",
              "      <td>0</td>\n",
              "      <td>0</td>\n",
              "      <td>0</td>\n",
              "      <td>0</td>\n",
              "    </tr>\n",
              "    <tr>\n",
              "      <th>ENSMUSG00000103377.2</th>\n",
              "      <td>chr1</td>\n",
              "      <td>3435954</td>\n",
              "      <td>3438772</td>\n",
              "      <td>-</td>\n",
              "      <td>2819</td>\n",
              "      <td>0</td>\n",
              "      <td>0</td>\n",
              "      <td>0</td>\n",
              "      <td>0</td>\n",
              "      <td>0</td>\n",
              "      <td>0</td>\n",
              "    </tr>\n",
              "  </tbody>\n",
              "</table>\n",
              "</div>\n",
              "      <button class=\"colab-df-convert\" onclick=\"convertToInteractive('df-ff44f5c8-74a8-4f95-a775-989e244c2cf8')\"\n",
              "              title=\"Convert this dataframe to an interactive table.\"\n",
              "              style=\"display:none;\">\n",
              "        \n",
              "  <svg xmlns=\"http://www.w3.org/2000/svg\" height=\"24px\"viewBox=\"0 0 24 24\"\n",
              "       width=\"24px\">\n",
              "    <path d=\"M0 0h24v24H0V0z\" fill=\"none\"/>\n",
              "    <path d=\"M18.56 5.44l.94 2.06.94-2.06 2.06-.94-2.06-.94-.94-2.06-.94 2.06-2.06.94zm-11 1L8.5 8.5l.94-2.06 2.06-.94-2.06-.94L8.5 2.5l-.94 2.06-2.06.94zm10 10l.94 2.06.94-2.06 2.06-.94-2.06-.94-.94-2.06-.94 2.06-2.06.94z\"/><path d=\"M17.41 7.96l-1.37-1.37c-.4-.4-.92-.59-1.43-.59-.52 0-1.04.2-1.43.59L10.3 9.45l-7.72 7.72c-.78.78-.78 2.05 0 2.83L4 21.41c.39.39.9.59 1.41.59.51 0 1.02-.2 1.41-.59l7.78-7.78 2.81-2.81c.8-.78.8-2.07 0-2.86zM5.41 20L4 18.59l7.72-7.72 1.47 1.35L5.41 20z\"/>\n",
              "  </svg>\n",
              "      </button>\n",
              "      \n",
              "  <style>\n",
              "    .colab-df-container {\n",
              "      display:flex;\n",
              "      flex-wrap:wrap;\n",
              "      gap: 12px;\n",
              "    }\n",
              "\n",
              "    .colab-df-convert {\n",
              "      background-color: #E8F0FE;\n",
              "      border: none;\n",
              "      border-radius: 50%;\n",
              "      cursor: pointer;\n",
              "      display: none;\n",
              "      fill: #1967D2;\n",
              "      height: 32px;\n",
              "      padding: 0 0 0 0;\n",
              "      width: 32px;\n",
              "    }\n",
              "\n",
              "    .colab-df-convert:hover {\n",
              "      background-color: #E2EBFA;\n",
              "      box-shadow: 0px 1px 2px rgba(60, 64, 67, 0.3), 0px 1px 3px 1px rgba(60, 64, 67, 0.15);\n",
              "      fill: #174EA6;\n",
              "    }\n",
              "\n",
              "    [theme=dark] .colab-df-convert {\n",
              "      background-color: #3B4455;\n",
              "      fill: #D2E3FC;\n",
              "    }\n",
              "\n",
              "    [theme=dark] .colab-df-convert:hover {\n",
              "      background-color: #434B5C;\n",
              "      box-shadow: 0px 1px 3px 1px rgba(0, 0, 0, 0.15);\n",
              "      filter: drop-shadow(0px 1px 2px rgba(0, 0, 0, 0.3));\n",
              "      fill: #FFFFFF;\n",
              "    }\n",
              "  </style>\n",
              "\n",
              "      <script>\n",
              "        const buttonEl =\n",
              "          document.querySelector('#df-ff44f5c8-74a8-4f95-a775-989e244c2cf8 button.colab-df-convert');\n",
              "        buttonEl.style.display =\n",
              "          google.colab.kernel.accessAllowed ? 'block' : 'none';\n",
              "\n",
              "        async function convertToInteractive(key) {\n",
              "          const element = document.querySelector('#df-ff44f5c8-74a8-4f95-a775-989e244c2cf8');\n",
              "          const dataTable =\n",
              "            await google.colab.kernel.invokeFunction('convertToInteractive',\n",
              "                                                     [key], {});\n",
              "          if (!dataTable) return;\n",
              "\n",
              "          const docLinkHtml = 'Like what you see? Visit the ' +\n",
              "            '<a target=\"_blank\" href=https://colab.research.google.com/notebooks/data_table.ipynb>data table notebook</a>'\n",
              "            + ' to learn more about interactive tables.';\n",
              "          element.innerHTML = '';\n",
              "          dataTable['output_type'] = 'display_data';\n",
              "          await google.colab.output.renderOutput(dataTable, element);\n",
              "          const docLink = document.createElement('div');\n",
              "          docLink.innerHTML = docLinkHtml;\n",
              "          element.appendChild(docLink);\n",
              "        }\n",
              "      </script>\n",
              "    </div>\n",
              "  </div>\n",
              "  "
            ]
          },
          "metadata": {},
          "execution_count": 11
        }
      ],
      "source": [
        "import pandas as pd\n",
        "cnts = pd.read_csv('/content/drive/MyDrive/Bioinformatics1/read-counts.txt', sep='\\t', comment='#', index_col=0)\n",
        "cnts.head()"
      ]
    },
    {
      "cell_type": "markdown",
      "metadata": {
        "id": "byKCv80ysiNr"
      },
      "source": [
        ""
      ]
    },
    {
      "cell_type": "markdown",
      "metadata": {
        "id": "NyrUZ7WBPAmv"
      },
      "source": [
        "이제 한 번 대충 그림을 그려 봅니다."
      ]
    },
    {
      "cell_type": "code",
      "execution_count": null,
      "metadata": {
        "id": "YlSZiJgVPAZS",
        "colab": {
          "base_uri": "https://localhost:8080/",
          "height": 536
        },
        "outputId": "bae77bec-08ae-4740-f22c-f9a46e07b956"
      },
      "outputs": [
        {
          "output_type": "execute_result",
          "data": {
            "text/plain": [
              "                                                     Chr  \\\n",
              "Geneid                                                     \n",
              "ENSMUSG00000102693.2                                chr1   \n",
              "ENSMUSG00000064842.3                                chr1   \n",
              "ENSMUSG00000051951.6  chr1;chr1;chr1;chr1;chr1;chr1;chr1   \n",
              "ENSMUSG00000102851.2                                chr1   \n",
              "ENSMUSG00000103377.2                                chr1   \n",
              "...                                                  ...   \n",
              "ENSMUSG00000064368.1                                chrM   \n",
              "ENSMUSG00000064369.1                                chrM   \n",
              "ENSMUSG00000064370.1                                chrM   \n",
              "ENSMUSG00000064371.1                                chrM   \n",
              "ENSMUSG00000064372.1                                chrM   \n",
              "\n",
              "                                                                  Start  \\\n",
              "Geneid                                                                    \n",
              "ENSMUSG00000102693.2                                            3143476   \n",
              "ENSMUSG00000064842.3                                            3172239   \n",
              "ENSMUSG00000051951.6  3276124;3276746;3283662;3283832;3284705;349192...   \n",
              "ENSMUSG00000102851.2                                            3322980   \n",
              "ENSMUSG00000103377.2                                            3435954   \n",
              "...                                                                 ...   \n",
              "ENSMUSG00000064368.1                                              13552   \n",
              "ENSMUSG00000064369.1                                              14071   \n",
              "ENSMUSG00000064370.1                                              14145   \n",
              "ENSMUSG00000064371.1                                              15289   \n",
              "ENSMUSG00000064372.1                                              15356   \n",
              "\n",
              "                                                                    End  \\\n",
              "Geneid                                                                    \n",
              "ENSMUSG00000102693.2                                            3144545   \n",
              "ENSMUSG00000064842.3                                            3172348   \n",
              "ENSMUSG00000051951.6  3277540;3277540;3285855;3286567;3287191;349212...   \n",
              "ENSMUSG00000102851.2                                            3323459   \n",
              "ENSMUSG00000103377.2                                            3438772   \n",
              "...                                                                 ...   \n",
              "ENSMUSG00000064368.1                                              14070   \n",
              "ENSMUSG00000064369.1                                              14139   \n",
              "ENSMUSG00000064370.1                                              15288   \n",
              "ENSMUSG00000064371.1                                              15355   \n",
              "ENSMUSG00000064372.1                                              15422   \n",
              "\n",
              "                             Strand  Length  CLIP-35L33G.bam  RNA-control.bam  \\\n",
              "Geneid                                                                          \n",
              "ENSMUSG00000102693.2              +    1070                0                0   \n",
              "ENSMUSG00000064842.3              +     110                0                0   \n",
              "ENSMUSG00000051951.6  -;-;-;-;-;-;-    6094                4                1   \n",
              "ENSMUSG00000102851.2              +     480                3                0   \n",
              "ENSMUSG00000103377.2              -    2819                0                0   \n",
              "...                             ...     ...              ...              ...   \n",
              "ENSMUSG00000064368.1              -     519             1666             1976   \n",
              "ENSMUSG00000064369.1              -      69               81               61   \n",
              "ENSMUSG00000064370.1              +    1144              403             4561   \n",
              "ENSMUSG00000064371.1              +      67              185               10   \n",
              "ENSMUSG00000064372.1              -      67             3398               25   \n",
              "\n",
              "                      RNA-siLin28a.bam  RNA-siLuc.bam  RPF-siLin28a.bam  \\\n",
              "Geneid                                                                    \n",
              "ENSMUSG00000102693.2                 0              0                 0   \n",
              "ENSMUSG00000064842.3                 0              0                 0   \n",
              "ENSMUSG00000051951.6                 1              1                 0   \n",
              "ENSMUSG00000102851.2                 0              0                 0   \n",
              "ENSMUSG00000103377.2                 0              0                 0   \n",
              "...                                ...            ...               ...   \n",
              "ENSMUSG00000064368.1              6741           8052             11471   \n",
              "ENSMUSG00000064369.1                30             25                18   \n",
              "ENSMUSG00000064370.1             11885          10971             13872   \n",
              "ENSMUSG00000064371.1                15             25              5257   \n",
              "ENSMUSG00000064372.1                95             74              2867   \n",
              "\n",
              "                      RPF-siLuc.bam  clip_enrichment  rden_change  \n",
              "Geneid                                                             \n",
              "ENSMUSG00000102693.2              0              NaN          NaN  \n",
              "ENSMUSG00000064842.3              0              NaN          NaN  \n",
              "ENSMUSG00000051951.6              0         4.000000          NaN  \n",
              "ENSMUSG00000102851.2              0              inf          NaN  \n",
              "ENSMUSG00000103377.2              0              NaN          NaN  \n",
              "...                             ...              ...          ...  \n",
              "ENSMUSG00000064368.1          10842         0.843117     1.263780  \n",
              "ENSMUSG00000064369.1             19         1.327869     0.789474  \n",
              "ENSMUSG00000064370.1          11329         0.088358     1.130302  \n",
              "ENSMUSG00000064371.1           3947        18.500000     2.219829  \n",
              "ENSMUSG00000064372.1           2759       135.920000     0.809439  \n",
              "\n",
              "[55359 rows x 13 columns]"
            ],
            "text/html": [
              "\n",
              "  <div id=\"df-6111475d-102f-41ab-a2b5-ac555ebd81d8\">\n",
              "    <div class=\"colab-df-container\">\n",
              "      <div>\n",
              "<style scoped>\n",
              "    .dataframe tbody tr th:only-of-type {\n",
              "        vertical-align: middle;\n",
              "    }\n",
              "\n",
              "    .dataframe tbody tr th {\n",
              "        vertical-align: top;\n",
              "    }\n",
              "\n",
              "    .dataframe thead th {\n",
              "        text-align: right;\n",
              "    }\n",
              "</style>\n",
              "<table border=\"1\" class=\"dataframe\">\n",
              "  <thead>\n",
              "    <tr style=\"text-align: right;\">\n",
              "      <th></th>\n",
              "      <th>Chr</th>\n",
              "      <th>Start</th>\n",
              "      <th>End</th>\n",
              "      <th>Strand</th>\n",
              "      <th>Length</th>\n",
              "      <th>CLIP-35L33G.bam</th>\n",
              "      <th>RNA-control.bam</th>\n",
              "      <th>RNA-siLin28a.bam</th>\n",
              "      <th>RNA-siLuc.bam</th>\n",
              "      <th>RPF-siLin28a.bam</th>\n",
              "      <th>RPF-siLuc.bam</th>\n",
              "      <th>clip_enrichment</th>\n",
              "      <th>rden_change</th>\n",
              "    </tr>\n",
              "    <tr>\n",
              "      <th>Geneid</th>\n",
              "      <th></th>\n",
              "      <th></th>\n",
              "      <th></th>\n",
              "      <th></th>\n",
              "      <th></th>\n",
              "      <th></th>\n",
              "      <th></th>\n",
              "      <th></th>\n",
              "      <th></th>\n",
              "      <th></th>\n",
              "      <th></th>\n",
              "      <th></th>\n",
              "      <th></th>\n",
              "    </tr>\n",
              "  </thead>\n",
              "  <tbody>\n",
              "    <tr>\n",
              "      <th>ENSMUSG00000102693.2</th>\n",
              "      <td>chr1</td>\n",
              "      <td>3143476</td>\n",
              "      <td>3144545</td>\n",
              "      <td>+</td>\n",
              "      <td>1070</td>\n",
              "      <td>0</td>\n",
              "      <td>0</td>\n",
              "      <td>0</td>\n",
              "      <td>0</td>\n",
              "      <td>0</td>\n",
              "      <td>0</td>\n",
              "      <td>NaN</td>\n",
              "      <td>NaN</td>\n",
              "    </tr>\n",
              "    <tr>\n",
              "      <th>ENSMUSG00000064842.3</th>\n",
              "      <td>chr1</td>\n",
              "      <td>3172239</td>\n",
              "      <td>3172348</td>\n",
              "      <td>+</td>\n",
              "      <td>110</td>\n",
              "      <td>0</td>\n",
              "      <td>0</td>\n",
              "      <td>0</td>\n",
              "      <td>0</td>\n",
              "      <td>0</td>\n",
              "      <td>0</td>\n",
              "      <td>NaN</td>\n",
              "      <td>NaN</td>\n",
              "    </tr>\n",
              "    <tr>\n",
              "      <th>ENSMUSG00000051951.6</th>\n",
              "      <td>chr1;chr1;chr1;chr1;chr1;chr1;chr1</td>\n",
              "      <td>3276124;3276746;3283662;3283832;3284705;349192...</td>\n",
              "      <td>3277540;3277540;3285855;3286567;3287191;349212...</td>\n",
              "      <td>-;-;-;-;-;-;-</td>\n",
              "      <td>6094</td>\n",
              "      <td>4</td>\n",
              "      <td>1</td>\n",
              "      <td>1</td>\n",
              "      <td>1</td>\n",
              "      <td>0</td>\n",
              "      <td>0</td>\n",
              "      <td>4.000000</td>\n",
              "      <td>NaN</td>\n",
              "    </tr>\n",
              "    <tr>\n",
              "      <th>ENSMUSG00000102851.2</th>\n",
              "      <td>chr1</td>\n",
              "      <td>3322980</td>\n",
              "      <td>3323459</td>\n",
              "      <td>+</td>\n",
              "      <td>480</td>\n",
              "      <td>3</td>\n",
              "      <td>0</td>\n",
              "      <td>0</td>\n",
              "      <td>0</td>\n",
              "      <td>0</td>\n",
              "      <td>0</td>\n",
              "      <td>inf</td>\n",
              "      <td>NaN</td>\n",
              "    </tr>\n",
              "    <tr>\n",
              "      <th>ENSMUSG00000103377.2</th>\n",
              "      <td>chr1</td>\n",
              "      <td>3435954</td>\n",
              "      <td>3438772</td>\n",
              "      <td>-</td>\n",
              "      <td>2819</td>\n",
              "      <td>0</td>\n",
              "      <td>0</td>\n",
              "      <td>0</td>\n",
              "      <td>0</td>\n",
              "      <td>0</td>\n",
              "      <td>0</td>\n",
              "      <td>NaN</td>\n",
              "      <td>NaN</td>\n",
              "    </tr>\n",
              "    <tr>\n",
              "      <th>...</th>\n",
              "      <td>...</td>\n",
              "      <td>...</td>\n",
              "      <td>...</td>\n",
              "      <td>...</td>\n",
              "      <td>...</td>\n",
              "      <td>...</td>\n",
              "      <td>...</td>\n",
              "      <td>...</td>\n",
              "      <td>...</td>\n",
              "      <td>...</td>\n",
              "      <td>...</td>\n",
              "      <td>...</td>\n",
              "      <td>...</td>\n",
              "    </tr>\n",
              "    <tr>\n",
              "      <th>ENSMUSG00000064368.1</th>\n",
              "      <td>chrM</td>\n",
              "      <td>13552</td>\n",
              "      <td>14070</td>\n",
              "      <td>-</td>\n",
              "      <td>519</td>\n",
              "      <td>1666</td>\n",
              "      <td>1976</td>\n",
              "      <td>6741</td>\n",
              "      <td>8052</td>\n",
              "      <td>11471</td>\n",
              "      <td>10842</td>\n",
              "      <td>0.843117</td>\n",
              "      <td>1.263780</td>\n",
              "    </tr>\n",
              "    <tr>\n",
              "      <th>ENSMUSG00000064369.1</th>\n",
              "      <td>chrM</td>\n",
              "      <td>14071</td>\n",
              "      <td>14139</td>\n",
              "      <td>-</td>\n",
              "      <td>69</td>\n",
              "      <td>81</td>\n",
              "      <td>61</td>\n",
              "      <td>30</td>\n",
              "      <td>25</td>\n",
              "      <td>18</td>\n",
              "      <td>19</td>\n",
              "      <td>1.327869</td>\n",
              "      <td>0.789474</td>\n",
              "    </tr>\n",
              "    <tr>\n",
              "      <th>ENSMUSG00000064370.1</th>\n",
              "      <td>chrM</td>\n",
              "      <td>14145</td>\n",
              "      <td>15288</td>\n",
              "      <td>+</td>\n",
              "      <td>1144</td>\n",
              "      <td>403</td>\n",
              "      <td>4561</td>\n",
              "      <td>11885</td>\n",
              "      <td>10971</td>\n",
              "      <td>13872</td>\n",
              "      <td>11329</td>\n",
              "      <td>0.088358</td>\n",
              "      <td>1.130302</td>\n",
              "    </tr>\n",
              "    <tr>\n",
              "      <th>ENSMUSG00000064371.1</th>\n",
              "      <td>chrM</td>\n",
              "      <td>15289</td>\n",
              "      <td>15355</td>\n",
              "      <td>+</td>\n",
              "      <td>67</td>\n",
              "      <td>185</td>\n",
              "      <td>10</td>\n",
              "      <td>15</td>\n",
              "      <td>25</td>\n",
              "      <td>5257</td>\n",
              "      <td>3947</td>\n",
              "      <td>18.500000</td>\n",
              "      <td>2.219829</td>\n",
              "    </tr>\n",
              "    <tr>\n",
              "      <th>ENSMUSG00000064372.1</th>\n",
              "      <td>chrM</td>\n",
              "      <td>15356</td>\n",
              "      <td>15422</td>\n",
              "      <td>-</td>\n",
              "      <td>67</td>\n",
              "      <td>3398</td>\n",
              "      <td>25</td>\n",
              "      <td>95</td>\n",
              "      <td>74</td>\n",
              "      <td>2867</td>\n",
              "      <td>2759</td>\n",
              "      <td>135.920000</td>\n",
              "      <td>0.809439</td>\n",
              "    </tr>\n",
              "  </tbody>\n",
              "</table>\n",
              "<p>55359 rows × 13 columns</p>\n",
              "</div>\n",
              "      <button class=\"colab-df-convert\" onclick=\"convertToInteractive('df-6111475d-102f-41ab-a2b5-ac555ebd81d8')\"\n",
              "              title=\"Convert this dataframe to an interactive table.\"\n",
              "              style=\"display:none;\">\n",
              "        \n",
              "  <svg xmlns=\"http://www.w3.org/2000/svg\" height=\"24px\"viewBox=\"0 0 24 24\"\n",
              "       width=\"24px\">\n",
              "    <path d=\"M0 0h24v24H0V0z\" fill=\"none\"/>\n",
              "    <path d=\"M18.56 5.44l.94 2.06.94-2.06 2.06-.94-2.06-.94-.94-2.06-.94 2.06-2.06.94zm-11 1L8.5 8.5l.94-2.06 2.06-.94-2.06-.94L8.5 2.5l-.94 2.06-2.06.94zm10 10l.94 2.06.94-2.06 2.06-.94-2.06-.94-.94-2.06-.94 2.06-2.06.94z\"/><path d=\"M17.41 7.96l-1.37-1.37c-.4-.4-.92-.59-1.43-.59-.52 0-1.04.2-1.43.59L10.3 9.45l-7.72 7.72c-.78.78-.78 2.05 0 2.83L4 21.41c.39.39.9.59 1.41.59.51 0 1.02-.2 1.41-.59l7.78-7.78 2.81-2.81c.8-.78.8-2.07 0-2.86zM5.41 20L4 18.59l7.72-7.72 1.47 1.35L5.41 20z\"/>\n",
              "  </svg>\n",
              "      </button>\n",
              "      \n",
              "  <style>\n",
              "    .colab-df-container {\n",
              "      display:flex;\n",
              "      flex-wrap:wrap;\n",
              "      gap: 12px;\n",
              "    }\n",
              "\n",
              "    .colab-df-convert {\n",
              "      background-color: #E8F0FE;\n",
              "      border: none;\n",
              "      border-radius: 50%;\n",
              "      cursor: pointer;\n",
              "      display: none;\n",
              "      fill: #1967D2;\n",
              "      height: 32px;\n",
              "      padding: 0 0 0 0;\n",
              "      width: 32px;\n",
              "    }\n",
              "\n",
              "    .colab-df-convert:hover {\n",
              "      background-color: #E2EBFA;\n",
              "      box-shadow: 0px 1px 2px rgba(60, 64, 67, 0.3), 0px 1px 3px 1px rgba(60, 64, 67, 0.15);\n",
              "      fill: #174EA6;\n",
              "    }\n",
              "\n",
              "    [theme=dark] .colab-df-convert {\n",
              "      background-color: #3B4455;\n",
              "      fill: #D2E3FC;\n",
              "    }\n",
              "\n",
              "    [theme=dark] .colab-df-convert:hover {\n",
              "      background-color: #434B5C;\n",
              "      box-shadow: 0px 1px 3px 1px rgba(0, 0, 0, 0.15);\n",
              "      filter: drop-shadow(0px 1px 2px rgba(0, 0, 0, 0.3));\n",
              "      fill: #FFFFFF;\n",
              "    }\n",
              "  </style>\n",
              "\n",
              "      <script>\n",
              "        const buttonEl =\n",
              "          document.querySelector('#df-6111475d-102f-41ab-a2b5-ac555ebd81d8 button.colab-df-convert');\n",
              "        buttonEl.style.display =\n",
              "          google.colab.kernel.accessAllowed ? 'block' : 'none';\n",
              "\n",
              "        async function convertToInteractive(key) {\n",
              "          const element = document.querySelector('#df-6111475d-102f-41ab-a2b5-ac555ebd81d8');\n",
              "          const dataTable =\n",
              "            await google.colab.kernel.invokeFunction('convertToInteractive',\n",
              "                                                     [key], {});\n",
              "          if (!dataTable) return;\n",
              "\n",
              "          const docLinkHtml = 'Like what you see? Visit the ' +\n",
              "            '<a target=\"_blank\" href=https://colab.research.google.com/notebooks/data_table.ipynb>data table notebook</a>'\n",
              "            + ' to learn more about interactive tables.';\n",
              "          element.innerHTML = '';\n",
              "          dataTable['output_type'] = 'display_data';\n",
              "          await google.colab.output.renderOutput(dataTable, element);\n",
              "          const docLink = document.createElement('div');\n",
              "          docLink.innerHTML = docLinkHtml;\n",
              "          element.appendChild(docLink);\n",
              "        }\n",
              "      </script>\n",
              "    </div>\n",
              "  </div>\n",
              "  "
            ]
          },
          "metadata": {},
          "execution_count": 12
        }
      ],
      "source": [
        "cnts['clip_enrichment'] = cnts['CLIP-35L33G.bam'] / cnts['RNA-control.bam']\n",
        "cnts['rden_change'] = (cnts['RPF-siLin28a.bam'] / cnts['RNA-siLin28a.bam']) / (cnts['RPF-siLuc.bam'] / cnts['RNA-siLuc.bam'])\n",
        "cnts"
      ]
    },
    {
      "cell_type": "code",
      "execution_count": null,
      "metadata": {
        "id": "vU3ce_HEFALl",
        "colab": {
          "base_uri": "https://localhost:8080/",
          "height": 375
        },
        "outputId": "13c8a1b9-aba3-4f05-9d27-b4465cb910d7"
      },
      "outputs": [
        {
          "output_type": "stream",
          "name": "stderr",
          "text": [
            "/usr/local/lib/python3.7/dist-packages/pandas/core/arraylike.py:364: RuntimeWarning: divide by zero encountered in log2\n",
            "  result = getattr(ufunc, method)(*inputs, **kwargs)\n"
          ]
        },
        {
          "output_type": "execute_result",
          "data": {
            "text/plain": [
              "<matplotlib.collections.PathCollection at 0x7fa76fb05750>"
            ]
          },
          "metadata": {},
          "execution_count": 13
        },
        {
          "output_type": "display_data",
          "data": {
            "text/plain": [
              "<Figure size 360x360 with 1 Axes>"
            ],
            "image/png": "[encoded data removed]"
          },
          "metadata": {
            "needs_background": "light"
          }
        }
      ],
      "source": [
        "from matplotlib import pyplot as plt\n",
        "import numpy as np\n",
        "\n",
        "fig, ax = plt.subplots(1, 1, figsize=(5, 5))\n",
        "ax.scatter(np.log2(cnts['clip_enrichment']),\n",
        "           np.log2(cnts['rden_change']))"
      ]
    },
    {
      "cell_type": "markdown",
      "metadata": {
        "id": "ksVjIL10mV_v"
      },
      "source": [
        "이 그림에는 문제가 많이 있습니다. 논문의 그림처럼 한 번 만들어 봅시다~"
      ]
    },
    {
      "cell_type": "code",
      "source": [
        "## Filtering raw counts\n",
        "# counts_filt = (cnts['CLIP-35L33G.bam'] >= 30)  & (cnts['RNA-control.bam'] >= 30) & (cnts['RNA-siLin28a.bam'] >= 30) & (cnts['RNA-siLuc.bam'] >= 30) & (cnts['RPF-siLuc.bam'] >= 80) & (cnts['RPF-siLin28a.bam'] >= 80) \n",
        "# counts_filt = (cnts['CLIP-35L33G.bam'] >= 30)  & (cnts['RNA-control.bam'] >= 30) & (cnts['RNA-siLin28a.bam'] >= 30) & (cnts['RNA-siLuc.bam'] >= 30) & (cnts['RPF-siLuc.bam'] >= 80)  & (cnts['RPF-siLin28a.bam'] >= 80)\n",
        "counts_filt = (cnts['CLIP-35L33G.bam'] >= 30) & (cnts['RNA-control.bam'] >= 30) & (cnts['RNA-siLin28a.bam'] >= 30)  & (cnts['RNA-siLuc.bam'] >= 30)  & (cnts['RPF-siLuc.bam'] >= 80) & (cnts['RPF-siLin28a.bam'] >= 80)\n",
        "subset_cnts= cnts.copy()\n",
        "subset_cnts = subset_cnts.loc[counts_filt,:] \n"
      ],
      "metadata": {
        "id": "zGV61emnf8Gp"
      },
      "execution_count": null,
      "outputs": []
    },
    {
      "cell_type": "code",
      "source": [
        "sum(subset_cnts['RPF-siLin28a.bam'])+sum(subset_cnts['RNA-siLin28a.bam'])"
      ],
      "metadata": {
        "colab": {
          "base_uri": "https://localhost:8080/"
        },
        "id": "_G0He4yAJ_ma",
        "outputId": "6be13b07-037e-4364-efdd-c150af1331f1"
      },
      "execution_count": null,
      "outputs": [
        {
          "output_type": "execute_result",
          "data": {
            "text/plain": [
              "21349429"
            ]
          },
          "metadata": {},
          "execution_count": 15
        }
      ]
    },
    {
      "cell_type": "code",
      "source": [
        "## Normalization \n",
        "\n",
        "# CLIP\n",
        "subset_cnts['clip_enrichment'] = (subset_cnts['CLIP-35L33G.bam']/sum(subset_cnts['CLIP-35L33G.bam'])) / (subset_cnts['RNA-control.bam']/sum(subset_cnts['RNA-control.bam'])) \n",
        "\n",
        "# RPF .. How to normalize this? \n",
        "Ribo_den_siLin28a = (subset_cnts['RPF-siLin28a.bam'] / subset_cnts['RNA-siLin28a.bam'])\n",
        "# norm_Ribo_den_siLin28a= Ribo_den_siLin28a/(sum(subset_cnts['RPF-siLin28a.bam'])+sum(subset_cnts['RNA-siLin28a.bam']))\n",
        "norm_Ribo_den_siLin28a = (subset_cnts['RPF-siLin28a.bam']/sum(subset_cnts['RPF-siLin28a.bam'])) / (subset_cnts['RNA-siLin28a.bam'] /sum(subset_cnts['RNA-siLin28a.bam']))\n",
        "\n",
        "Ribo_den_siLuc = (subset_cnts['RPF-siLuc.bam'] / subset_cnts['RNA-siLuc.bam'])\n",
        "# norm_Ribo_den_siLuc = Ribo_den_siLuc/(sum(subset_cnts['RPF-siLuc.bam'])+sum(subset_cnts['RNA-siLuc.bam']))\n",
        "norm_Ribo_den_siLuc = (subset_cnts['RPF-siLuc.bam']/sum(subset_cnts['RPF-siLuc.bam'])) / (subset_cnts['RNA-siLuc.bam'] / sum(subset_cnts['RNA-siLuc.bam']))\n",
        "\n",
        "subset_cnts['rden_change'] = norm_Ribo_den_siLin28a/norm_Ribo_den_siLuc\n",
        "\n",
        "print(cnts.shape)\n",
        "print(subset_cnts.shape)\n",
        "\n",
        "print(cnts.isna().sum(),\"\\n\")\n",
        "print(subset_cnts.isna().sum(),\"\\n\") # check na\n",
        "\n",
        "ds = cnts.isin([np.inf, -np.inf])\n",
        "print(ds.sum(),\"\\n\")\n",
        "\n",
        "subset_ds = subset_cnts.isin([np.inf, -np.inf])\n",
        "print(subset_ds.sum(),\"\\n\") # check inf , -inf\n",
        "\n"
      ],
      "metadata": {
        "colab": {
          "base_uri": "https://localhost:8080/"
        },
        "id": "FQAAaPmiJ2bx",
        "outputId": "db11aa85-9af2-4070-befc-ca9701cef7fe"
      },
      "execution_count": null,
      "outputs": [
        {
          "output_type": "stream",
          "name": "stdout",
          "text": [
            "(55359, 13)\n",
            "(7017, 13)\n",
            "Chr                     0\n",
            "Start                   0\n",
            "End                     0\n",
            "Strand                  0\n",
            "Length                  0\n",
            "CLIP-35L33G.bam         0\n",
            "RNA-control.bam         0\n",
            "RNA-siLin28a.bam        0\n",
            "RNA-siLuc.bam           0\n",
            "RPF-siLin28a.bam        0\n",
            "RPF-siLuc.bam           0\n",
            "clip_enrichment     22595\n",
            "rden_change         33334\n",
            "dtype: int64 \n",
            "\n",
            "Chr                 0\n",
            "Start               0\n",
            "End                 0\n",
            "Strand              0\n",
            "Length              0\n",
            "CLIP-35L33G.bam     0\n",
            "RNA-control.bam     0\n",
            "RNA-siLin28a.bam    0\n",
            "RNA-siLuc.bam       0\n",
            "RPF-siLin28a.bam    0\n",
            "RPF-siLuc.bam       0\n",
            "clip_enrichment     0\n",
            "rden_change         0\n",
            "dtype: int64 \n",
            "\n",
            "Chr                    0\n",
            "Start                  0\n",
            "End                    0\n",
            "Strand                 0\n",
            "Length                 0\n",
            "CLIP-35L33G.bam        0\n",
            "RNA-control.bam        0\n",
            "RNA-siLin28a.bam       0\n",
            "RNA-siLuc.bam          0\n",
            "RPF-siLin28a.bam       0\n",
            "RPF-siLuc.bam          0\n",
            "clip_enrichment     5182\n",
            "rden_change         1633\n",
            "dtype: int64 \n",
            "\n",
            "Chr                 0\n",
            "Start               0\n",
            "End                 0\n",
            "Strand              0\n",
            "Length              0\n",
            "CLIP-35L33G.bam     0\n",
            "RNA-control.bam     0\n",
            "RNA-siLin28a.bam    0\n",
            "RNA-siLuc.bam       0\n",
            "RPF-siLin28a.bam    0\n",
            "RPF-siLuc.bam       0\n",
            "clip_enrichment     0\n",
            "rden_change         0\n",
            "dtype: int64 \n",
            "\n"
          ]
        }
      ]
    },
    {
      "cell_type": "code",
      "source": [
        "print(Ribo_den_siLuc.max())\n",
        "print((sum(subset_cnts['RPF-siLuc.bam'])+sum(subset_cnts['RNA-siLuc.bam'])))"
      ],
      "metadata": {
        "colab": {
          "base_uri": "https://localhost:8080/"
        },
        "id": "FJuWUvsd5BEw",
        "outputId": "719dbb2a-e458-404a-d6b9-8222f41e5472"
      },
      "execution_count": null,
      "outputs": [
        {
          "output_type": "stream",
          "name": "stdout",
          "text": [
            "453.7361963190184\n",
            "21114152\n"
          ]
        }
      ]
    },
    {
      "cell_type": "code",
      "execution_count": null,
      "metadata": {
        "id": "RZ-EV3s5X3u5",
        "colab": {
          "base_uri": "https://localhost:8080/",
          "height": 390
        },
        "outputId": "9042992f-1c46-4a49-83fe-f21e127cd150"
      },
      "outputs": [
        {
          "output_type": "display_data",
          "data": {
            "text/plain": [
              "<Figure size 360x360 with 1 Axes>"
            ],
            "image/png": "[encoded data removed]"
          },
          "metadata": {
            "needs_background": "light"
          }
        }
      ],
      "source": [
        "from matplotlib import pyplot as plt\n",
        "import numpy as np\n",
        "from scipy import stats\n",
        "\n",
        "fig, ax = plt.subplots(1,1,figsize=(5,5))\n",
        "plt.scatter(np.log2(subset_cnts['clip_enrichment']),\n",
        "           np.log2(subset_cnts['rden_change']),\n",
        "           s=1**2,\n",
        "           c='black')\n",
        "\n",
        "## Tilte \n",
        "plt.title('CLIP and ribosome footprinting upon Lin28a knockdown \\n',fontsize=18)\n",
        "\n",
        "## set axis\n",
        "plt.xlabel('LIN28A CLIP enrichment (log$_2$)',fontsize=17)\n",
        "plt.ylabel('Ribosome density change \\non Lin28a knockdown (log$_2$)',fontsize=17)\n",
        "plt.xlim([-6,4]) \n",
        "plt.ylim([-2,2])\n",
        "plt.locator_params(axis='y', nbins=5)\n",
        "\n",
        "ax.spines['top'].set_linewidth(0.2) # 테두리 두께 설정\n",
        "ax.spines['right'].set_linewidth(0.2)\n",
        "\n",
        "ax.grid(which=\"major\",alpha=0.5) # grid 두께 설정\n",
        "\n",
        "ax.spines['right'].set_color('gray') # 테두리 색 설정\n",
        "ax.spines['top'].set_color('gray')\n",
        "\n",
        "ax.tick_params(labelsize=13) # tick font size \n",
        "\n",
        "## Adding correlation value\n",
        "pearson_value = stats.pearsonr(np.log2(subset_cnts['clip_enrichment']), np.log2(subset_cnts['rden_change']))\n",
        "box1 = {'boxstyle':'square',\n",
        "        'alpha':0.5,\n",
        "        'facecolor':'w',\n",
        "        'edgecolor':'w'}\n",
        "plt.text(0.3, -1.8, '$r$ ={:.4f}'.format(pearson_value[0]),fontsize=15,bbox=box1)\n",
        "\n",
        "plt.show()\n"
      ]
    },
    {
      "cell_type": "markdown",
      "metadata": {
        "id": "sf6EJJ60Qbxg"
      },
      "source": [
        "## Protein localization 반영하기\n",
        "\n",
        "논문 그림에서는 protein localization을 반영해서 색으로 나타냈습니다. 이것을 한 번 구현해 봅시다. 각 gene product의 localization을 따로 구하려면 좀 귀찮기 때문에 미리 모아 두었습니다. UniProt에서 매핑된 데이터를 토대로 아주 명확한 것만 일부 정리한 것입니다. 이것도 마찬가지로 처음엔 에러가 나기도 하니까, 다시 실행해보면 거의 잘 됩니다~"
      ]
    },
    {
      "cell_type": "code",
      "execution_count": null,
      "metadata": {
        "id": "ivb1q7_f-gl4",
        "colab": {
          "base_uri": "https://localhost:8080/"
        },
        "outputId": "e64134ac-e512-4441-c83e-47b7309be5cc"
      },
      "outputs": [
        {
          "output_type": "stream",
          "name": "stdout",
          "text": [
            "                 gene_id            Gene names               type\n",
            "0     ENSMUSG00000000001                 Gnai3          cytoplasm\n",
            "1     ENSMUSG00000000028  Cdc45 Cdc45l Cdc45l2            nucleus\n",
            "2     ENSMUSG00000000049            Apoh B2gp1          cytoplasm\n",
            "3     ENSMUSG00000000058                  Cav2          cytoplasm\n",
            "4     ENSMUSG00000000085                 Scmh1            nucleus\n",
            "...                  ...                   ...                ...\n",
            "9518  ENSMUSG00000117975       Itprip Kiaa1754  integral membrane\n",
            "9519  ENSMUSG00000118332  Fam220a Acpin1 Sipar            nucleus\n",
            "9520  ENSMUSG00000118346              Tmem179b  integral membrane\n",
            "9521  ENSMUSG00000118504                   NaN  integral membrane\n",
            "9522  ENSMUSG00000118560                  Lim2  integral membrane\n",
            "\n",
            "[9523 rows x 3 columns]\n",
            "nucleus              4296\n",
            "integral membrane    2986\n",
            "cytoplasm            2241\n",
            "Name: type, dtype: int64\n"
          ]
        }
      ],
      "source": [
        "import ssl\n",
        "ssl._create_default_https_context = ssl._create_unverified_context\n",
        "mouselocal = pd.read_csv('https://hyeshik.qbio.io/binfo/mouselocalization-20210507.txt', sep='\\t')\n",
        "print(mouselocal)\n",
        "print(mouselocal['type'].value_counts())\n"
      ]
    },
    {
      "cell_type": "markdown",
      "metadata": {
        "id": "Q9vgSzeiQxDU"
      },
      "source": [
        "이제 이 localization 데이터와 위에서 만든 scatter를 결합해서 논문 그림과 비슷하게 만들어 봅시다."
      ]
    },
    {
      "cell_type": "code",
      "execution_count": null,
      "metadata": {
        "id": "aPPW73t4X3pp",
        "colab": {
          "base_uri": "https://localhost:8080/",
          "height": 554
        },
        "outputId": "c20500cd-0f4d-46a5-b357-0990576f6376"
      },
      "outputs": [
        {
          "output_type": "stream",
          "name": "stdout",
          "text": [
            "(7017, 14)\n"
          ]
        },
        {
          "output_type": "execute_result",
          "data": {
            "text/plain": [
              "                                                                  Chr  \\\n",
              "0                                                                       \n",
              "ENSMUSG00000033845  chr1;chr1;chr1;chr1;chr1;chr1;chr1;chr1;chr1;c...   \n",
              "ENSMUSG00000033813  chr1;chr1;chr1;chr1;chr1;chr1;chr1;chr1;chr1;c...   \n",
              "ENSMUSG00000033793  chr1;chr1;chr1;chr1;chr1;chr1;chr1;chr1;chr1;c...   \n",
              "ENSMUSG00000025907  chr1;chr1;chr1;chr1;chr1;chr1;chr1;chr1;chr1;c...   \n",
              "ENSMUSG00000051285  chr1;chr1;chr1;chr1;chr1;chr1;chr1;chr1;chr1;c...   \n",
              "...                                                               ...   \n",
              "ENSMUSG00000064351                                               chrM   \n",
              "ENSMUSG00000064363                                               chrM   \n",
              "ENSMUSG00000064367                                               chrM   \n",
              "ENSMUSG00000064368                                               chrM   \n",
              "ENSMUSG00000064370                                               chrM   \n",
              "\n",
              "                                                                Start  \\\n",
              "0                                                                       \n",
              "ENSMUSG00000033845  4843429;4843434;4844659;4846600;4847748;484774...   \n",
              "ENSMUSG00000033813  4928037;4928261;4937693;4937693;4948250;494825...   \n",
              "ENSMUSG00000033793  5140241;5153303;5153333;5153347;5153355;515335...   \n",
              "ENSMUSG00000025907  6276421;6276451;6284869;6284887;6285232;629382...   \n",
              "ENSMUSG00000051285  7159144;7159154;7159328;7159390;7190418;721786...   \n",
              "...                                                               ...   \n",
              "ENSMUSG00000064351                                               5328   \n",
              "ENSMUSG00000064363                                              10167   \n",
              "ENSMUSG00000064367                                              11742   \n",
              "ENSMUSG00000064368                                              13552   \n",
              "ENSMUSG00000064370                                              14145   \n",
              "\n",
              "                                                                  End  \\\n",
              "0                                                                       \n",
              "ENSMUSG00000033845  4844739;4847024;4844739;4847024;4847871;484787...   \n",
              "ENSMUSG00000033813  4928199;4928726;4937755;4937755;4948355;494835...   \n",
              "ENSMUSG00000033793  5140367;5153501;5153848;5153501;5153501;515350...   \n",
              "ENSMUSG00000025907  6276494;6276494;6285181;6285181;6285476;629396...   \n",
              "ENSMUSG00000051285  7159440;7159440;7159440;7159440;7190839;721796...   \n",
              "...                                                               ...   \n",
              "ENSMUSG00000064351                                               6872   \n",
              "ENSMUSG00000064363                                              11544   \n",
              "ENSMUSG00000064367                                              13565   \n",
              "ENSMUSG00000064368                                              14070   \n",
              "ENSMUSG00000064370                                              15288   \n",
              "\n",
              "                                                               Strand  Length  \\\n",
              "0                                                                               \n",
              "ENSMUSG00000033845  -;-;-;-;-;-;-;-;-;-;-;-;-;-;-;-;-;-;-;-;-;-;-;...    8487   \n",
              "ENSMUSG00000033813            +;+;+;+;+;+;+;+;+;+;+;+;+;+;+;+;+;+;+;+    3017   \n",
              "ENSMUSG00000033793  +;+;+;+;+;+;+;+;+;+;+;+;+;+;+;+;+;+;+;+;+;+;+;...    9746   \n",
              "ENSMUSG00000025907  +;+;+;+;+;+;+;+;+;+;+;+;+;+;+;+;+;+;+;+;+;+;+;...   14690   \n",
              "ENSMUSG00000051285  +;+;+;+;+;+;+;+;+;+;+;+;+;+;+;+;+;+;+;+;+;+;+;...    6654   \n",
              "...                                                               ...     ...   \n",
              "ENSMUSG00000064351                                                  +    1545   \n",
              "ENSMUSG00000064363                                                  +    1378   \n",
              "ENSMUSG00000064367                                                  +    1824   \n",
              "ENSMUSG00000064368                                                  -     519   \n",
              "ENSMUSG00000064370                                                  +    1144   \n",
              "\n",
              "                    CLIP-35L33G.bam  RNA-control.bam  RNA-siLin28a.bam  \\\n",
              "0                                                                        \n",
              "ENSMUSG00000033845             4014             1355              3022   \n",
              "ENSMUSG00000033813             1658              762              2130   \n",
              "ENSMUSG00000033793             1111              474              1260   \n",
              "ENSMUSG00000025907             1520              280               694   \n",
              "ENSMUSG00000051285             3508              529              2360   \n",
              "...                             ...              ...               ...   \n",
              "ENSMUSG00000064351              533            16638             50576   \n",
              "ENSMUSG00000064363              373             2150              5028   \n",
              "ENSMUSG00000064367             3665             5281             15549   \n",
              "ENSMUSG00000064368             1666             1976              6741   \n",
              "ENSMUSG00000064370              403             4561             11885   \n",
              "\n",
              "                    RNA-siLuc.bam  RPF-siLin28a.bam  RPF-siLuc.bam  \\\n",
              "0                                                                    \n",
              "ENSMUSG00000033845           2563              1859           3191   \n",
              "ENSMUSG00000033813           2225               328            609   \n",
              "ENSMUSG00000033793           1031               603           1128   \n",
              "ENSMUSG00000025907            903               132            251   \n",
              "ENSMUSG00000051285           1775               208            138   \n",
              "...                           ...               ...            ...   \n",
              "ENSMUSG00000064351          39430             21253          17355   \n",
              "ENSMUSG00000064363           4224              3292           2498   \n",
              "ENSMUSG00000064367          17408              5986           5305   \n",
              "ENSMUSG00000064368           8052             11471          10842   \n",
              "ENSMUSG00000064370          10971             13872          11329   \n",
              "\n",
              "                    clip_enrichment  rden_change             gene_id  \n",
              "0                                                                     \n",
              "ENSMUSG00000033845         1.073363     0.754526  ENSMUSG00000033845  \n",
              "ENSMUSG00000033813         0.788385     0.859161  ENSMUSG00000033813  \n",
              "ENSMUSG00000033793         0.849267     0.667981  ENSMUSG00000033793  \n",
              "ENSMUSG00000025907         1.966954     1.044951  ENSMUSG00000025907  \n",
              "ENSMUSG00000051285         2.402771     1.731164  ENSMUSG00000051285  \n",
              "...                             ...          ...                 ...  \n",
              "ENSMUSG00000064351         0.011607     1.457959  ENSMUSG00000064351  \n",
              "ENSMUSG00000064363         0.062861     1.690688  ENSMUSG00000064363  \n",
              "ENSMUSG00000064367         0.251459     1.929147  ENSMUSG00000064367  \n",
              "ENSMUSG00000064368         0.305490     1.929918  ENSMUSG00000064368  \n",
              "ENSMUSG00000064370         0.032015     1.726084  ENSMUSG00000064370  \n",
              "\n",
              "[7017 rows x 14 columns]"
            ],
            "text/html": [
              "\n",
              "  <div id=\"df-894d1c13-3713-40e0-86fc-193e5d4357a2\">\n",
              "    <div class=\"colab-df-container\">\n",
              "      <div>\n",
              "<style scoped>\n",
              "    .dataframe tbody tr th:only-of-type {\n",
              "        vertical-align: middle;\n",
              "    }\n",
              "\n",
              "    .dataframe tbody tr th {\n",
              "        vertical-align: top;\n",
              "    }\n",
              "\n",
              "    .dataframe thead th {\n",
              "        text-align: right;\n",
              "    }\n",
              "</style>\n",
              "<table border=\"1\" class=\"dataframe\">\n",
              "  <thead>\n",
              "    <tr style=\"text-align: right;\">\n",
              "      <th></th>\n",
              "      <th>Chr</th>\n",
              "      <th>Start</th>\n",
              "      <th>End</th>\n",
              "      <th>Strand</th>\n",
              "      <th>Length</th>\n",
              "      <th>CLIP-35L33G.bam</th>\n",
              "      <th>RNA-control.bam</th>\n",
              "      <th>RNA-siLin28a.bam</th>\n",
              "      <th>RNA-siLuc.bam</th>\n",
              "      <th>RPF-siLin28a.bam</th>\n",
              "      <th>RPF-siLuc.bam</th>\n",
              "      <th>clip_enrichment</th>\n",
              "      <th>rden_change</th>\n",
              "      <th>gene_id</th>\n",
              "    </tr>\n",
              "    <tr>\n",
              "      <th>0</th>\n",
              "      <th></th>\n",
              "      <th></th>\n",
              "      <th></th>\n",
              "      <th></th>\n",
              "      <th></th>\n",
              "      <th></th>\n",
              "      <th></th>\n",
              "      <th></th>\n",
              "      <th></th>\n",
              "      <th></th>\n",
              "      <th></th>\n",
              "      <th></th>\n",
              "      <th></th>\n",
              "      <th></th>\n",
              "    </tr>\n",
              "  </thead>\n",
              "  <tbody>\n",
              "    <tr>\n",
              "      <th>ENSMUSG00000033845</th>\n",
              "      <td>chr1;chr1;chr1;chr1;chr1;chr1;chr1;chr1;chr1;c...</td>\n",
              "      <td>4843429;4843434;4844659;4846600;4847748;484774...</td>\n",
              "      <td>4844739;4847024;4844739;4847024;4847871;484787...</td>\n",
              "      <td>-;-;-;-;-;-;-;-;-;-;-;-;-;-;-;-;-;-;-;-;-;-;-;...</td>\n",
              "      <td>8487</td>\n",
              "      <td>4014</td>\n",
              "      <td>1355</td>\n",
              "      <td>3022</td>\n",
              "      <td>2563</td>\n",
              "      <td>1859</td>\n",
              "      <td>3191</td>\n",
              "      <td>1.073363</td>\n",
              "      <td>0.754526</td>\n",
              "      <td>ENSMUSG00000033845</td>\n",
              "    </tr>\n",
              "    <tr>\n",
              "      <th>ENSMUSG00000033813</th>\n",
              "      <td>chr1;chr1;chr1;chr1;chr1;chr1;chr1;chr1;chr1;c...</td>\n",
              "      <td>4928037;4928261;4937693;4937693;4948250;494825...</td>\n",
              "      <td>4928199;4928726;4937755;4937755;4948355;494835...</td>\n",
              "      <td>+;+;+;+;+;+;+;+;+;+;+;+;+;+;+;+;+;+;+;+</td>\n",
              "      <td>3017</td>\n",
              "      <td>1658</td>\n",
              "      <td>762</td>\n",
              "      <td>2130</td>\n",
              "      <td>2225</td>\n",
              "      <td>328</td>\n",
              "      <td>609</td>\n",
              "      <td>0.788385</td>\n",
              "      <td>0.859161</td>\n",
              "      <td>ENSMUSG00000033813</td>\n",
              "    </tr>\n",
              "    <tr>\n",
              "      <th>ENSMUSG00000033793</th>\n",
              "      <td>chr1;chr1;chr1;chr1;chr1;chr1;chr1;chr1;chr1;c...</td>\n",
              "      <td>5140241;5153303;5153333;5153347;5153355;515335...</td>\n",
              "      <td>5140367;5153501;5153848;5153501;5153501;515350...</td>\n",
              "      <td>+;+;+;+;+;+;+;+;+;+;+;+;+;+;+;+;+;+;+;+;+;+;+;...</td>\n",
              "      <td>9746</td>\n",
              "      <td>1111</td>\n",
              "      <td>474</td>\n",
              "      <td>1260</td>\n",
              "      <td>1031</td>\n",
              "      <td>603</td>\n",
              "      <td>1128</td>\n",
              "      <td>0.849267</td>\n",
              "      <td>0.667981</td>\n",
              "      <td>ENSMUSG00000033793</td>\n",
              "    </tr>\n",
              "    <tr>\n",
              "      <th>ENSMUSG00000025907</th>\n",
              "      <td>chr1;chr1;chr1;chr1;chr1;chr1;chr1;chr1;chr1;c...</td>\n",
              "      <td>6276421;6276451;6284869;6284887;6285232;629382...</td>\n",
              "      <td>6276494;6276494;6285181;6285181;6285476;629396...</td>\n",
              "      <td>+;+;+;+;+;+;+;+;+;+;+;+;+;+;+;+;+;+;+;+;+;+;+;...</td>\n",
              "      <td>14690</td>\n",
              "      <td>1520</td>\n",
              "      <td>280</td>\n",
              "      <td>694</td>\n",
              "      <td>903</td>\n",
              "      <td>132</td>\n",
              "      <td>251</td>\n",
              "      <td>1.966954</td>\n",
              "      <td>1.044951</td>\n",
              "      <td>ENSMUSG00000025907</td>\n",
              "    </tr>\n",
              "    <tr>\n",
              "      <th>ENSMUSG00000051285</th>\n",
              "      <td>chr1;chr1;chr1;chr1;chr1;chr1;chr1;chr1;chr1;c...</td>\n",
              "      <td>7159144;7159154;7159328;7159390;7190418;721786...</td>\n",
              "      <td>7159440;7159440;7159440;7159440;7190839;721796...</td>\n",
              "      <td>+;+;+;+;+;+;+;+;+;+;+;+;+;+;+;+;+;+;+;+;+;+;+;...</td>\n",
              "      <td>6654</td>\n",
              "      <td>3508</td>\n",
              "      <td>529</td>\n",
              "      <td>2360</td>\n",
              "      <td>1775</td>\n",
              "      <td>208</td>\n",
              "      <td>138</td>\n",
              "      <td>2.402771</td>\n",
              "      <td>1.731164</td>\n",
              "      <td>ENSMUSG00000051285</td>\n",
              "    </tr>\n",
              "    <tr>\n",
              "      <th>...</th>\n",
              "      <td>...</td>\n",
              "      <td>...</td>\n",
              "      <td>...</td>\n",
              "      <td>...</td>\n",
              "      <td>...</td>\n",
              "      <td>...</td>\n",
              "      <td>...</td>\n",
              "      <td>...</td>\n",
              "      <td>...</td>\n",
              "      <td>...</td>\n",
              "      <td>...</td>\n",
              "      <td>...</td>\n",
              "      <td>...</td>\n",
              "      <td>...</td>\n",
              "    </tr>\n",
              "    <tr>\n",
              "      <th>ENSMUSG00000064351</th>\n",
              "      <td>chrM</td>\n",
              "      <td>5328</td>\n",
              "      <td>6872</td>\n",
              "      <td>+</td>\n",
              "      <td>1545</td>\n",
              "      <td>533</td>\n",
              "      <td>16638</td>\n",
              "      <td>50576</td>\n",
              "      <td>39430</td>\n",
              "      <td>21253</td>\n",
              "      <td>17355</td>\n",
              "      <td>0.011607</td>\n",
              "      <td>1.457959</td>\n",
              "      <td>ENSMUSG00000064351</td>\n",
              "    </tr>\n",
              "    <tr>\n",
              "      <th>ENSMUSG00000064363</th>\n",
              "      <td>chrM</td>\n",
              "      <td>10167</td>\n",
              "      <td>11544</td>\n",
              "      <td>+</td>\n",
              "      <td>1378</td>\n",
              "      <td>373</td>\n",
              "      <td>2150</td>\n",
              "      <td>5028</td>\n",
              "      <td>4224</td>\n",
              "      <td>3292</td>\n",
              "      <td>2498</td>\n",
              "      <td>0.062861</td>\n",
              "      <td>1.690688</td>\n",
              "      <td>ENSMUSG00000064363</td>\n",
              "    </tr>\n",
              "    <tr>\n",
              "      <th>ENSMUSG00000064367</th>\n",
              "      <td>chrM</td>\n",
              "      <td>11742</td>\n",
              "      <td>13565</td>\n",
              "      <td>+</td>\n",
              "      <td>1824</td>\n",
              "      <td>3665</td>\n",
              "      <td>5281</td>\n",
              "      <td>15549</td>\n",
              "      <td>17408</td>\n",
              "      <td>5986</td>\n",
              "      <td>5305</td>\n",
              "      <td>0.251459</td>\n",
              "      <td>1.929147</td>\n",
              "      <td>ENSMUSG00000064367</td>\n",
              "    </tr>\n",
              "    <tr>\n",
              "      <th>ENSMUSG00000064368</th>\n",
              "      <td>chrM</td>\n",
              "      <td>13552</td>\n",
              "      <td>14070</td>\n",
              "      <td>-</td>\n",
              "      <td>519</td>\n",
              "      <td>1666</td>\n",
              "      <td>1976</td>\n",
              "      <td>6741</td>\n",
              "      <td>8052</td>\n",
              "      <td>11471</td>\n",
              "      <td>10842</td>\n",
              "      <td>0.305490</td>\n",
              "      <td>1.929918</td>\n",
              "      <td>ENSMUSG00000064368</td>\n",
              "    </tr>\n",
              "    <tr>\n",
              "      <th>ENSMUSG00000064370</th>\n",
              "      <td>chrM</td>\n",
              "      <td>14145</td>\n",
              "      <td>15288</td>\n",
              "      <td>+</td>\n",
              "      <td>1144</td>\n",
              "      <td>403</td>\n",
              "      <td>4561</td>\n",
              "      <td>11885</td>\n",
              "      <td>10971</td>\n",
              "      <td>13872</td>\n",
              "      <td>11329</td>\n",
              "      <td>0.032015</td>\n",
              "      <td>1.726084</td>\n",
              "      <td>ENSMUSG00000064370</td>\n",
              "    </tr>\n",
              "  </tbody>\n",
              "</table>\n",
              "<p>7017 rows × 14 columns</p>\n",
              "</div>\n",
              "      <button class=\"colab-df-convert\" onclick=\"convertToInteractive('df-894d1c13-3713-40e0-86fc-193e5d4357a2')\"\n",
              "              title=\"Convert this dataframe to an interactive table.\"\n",
              "              style=\"display:none;\">\n",
              "        \n",
              "  <svg xmlns=\"http://www.w3.org/2000/svg\" height=\"24px\"viewBox=\"0 0 24 24\"\n",
              "       width=\"24px\">\n",
              "    <path d=\"M0 0h24v24H0V0z\" fill=\"none\"/>\n",
              "    <path d=\"M18.56 5.44l.94 2.06.94-2.06 2.06-.94-2.06-.94-.94-2.06-.94 2.06-2.06.94zm-11 1L8.5 8.5l.94-2.06 2.06-.94-2.06-.94L8.5 2.5l-.94 2.06-2.06.94zm10 10l.94 2.06.94-2.06 2.06-.94-2.06-.94-.94-2.06-.94 2.06-2.06.94z\"/><path d=\"M17.41 7.96l-1.37-1.37c-.4-.4-.92-.59-1.43-.59-.52 0-1.04.2-1.43.59L10.3 9.45l-7.72 7.72c-.78.78-.78 2.05 0 2.83L4 21.41c.39.39.9.59 1.41.59.51 0 1.02-.2 1.41-.59l7.78-7.78 2.81-2.81c.8-.78.8-2.07 0-2.86zM5.41 20L4 18.59l7.72-7.72 1.47 1.35L5.41 20z\"/>\n",
              "  </svg>\n",
              "      </button>\n",
              "      \n",
              "  <style>\n",
              "    .colab-df-container {\n",
              "      display:flex;\n",
              "      flex-wrap:wrap;\n",
              "      gap: 12px;\n",
              "    }\n",
              "\n",
              "    .colab-df-convert {\n",
              "      background-color: #E8F0FE;\n",
              "      border: none;\n",
              "      border-radius: 50%;\n",
              "      cursor: pointer;\n",
              "      display: none;\n",
              "      fill: #1967D2;\n",
              "      height: 32px;\n",
              "      padding: 0 0 0 0;\n",
              "      width: 32px;\n",
              "    }\n",
              "\n",
              "    .colab-df-convert:hover {\n",
              "      background-color: #E2EBFA;\n",
              "      box-shadow: 0px 1px 2px rgba(60, 64, 67, 0.3), 0px 1px 3px 1px rgba(60, 64, 67, 0.15);\n",
              "      fill: #174EA6;\n",
              "    }\n",
              "\n",
              "    [theme=dark] .colab-df-convert {\n",
              "      background-color: #3B4455;\n",
              "      fill: #D2E3FC;\n",
              "    }\n",
              "\n",
              "    [theme=dark] .colab-df-convert:hover {\n",
              "      background-color: #434B5C;\n",
              "      box-shadow: 0px 1px 3px 1px rgba(0, 0, 0, 0.15);\n",
              "      filter: drop-shadow(0px 1px 2px rgba(0, 0, 0, 0.3));\n",
              "      fill: #FFFFFF;\n",
              "    }\n",
              "  </style>\n",
              "\n",
              "      <script>\n",
              "        const buttonEl =\n",
              "          document.querySelector('#df-894d1c13-3713-40e0-86fc-193e5d4357a2 button.colab-df-convert');\n",
              "        buttonEl.style.display =\n",
              "          google.colab.kernel.accessAllowed ? 'block' : 'none';\n",
              "\n",
              "        async function convertToInteractive(key) {\n",
              "          const element = document.querySelector('#df-894d1c13-3713-40e0-86fc-193e5d4357a2');\n",
              "          const dataTable =\n",
              "            await google.colab.kernel.invokeFunction('convertToInteractive',\n",
              "                                                     [key], {});\n",
              "          if (!dataTable) return;\n",
              "\n",
              "          const docLinkHtml = 'Like what you see? Visit the ' +\n",
              "            '<a target=\"_blank\" href=https://colab.research.google.com/notebooks/data_table.ipynb>data table notebook</a>'\n",
              "            + ' to learn more about interactive tables.';\n",
              "          element.innerHTML = '';\n",
              "          dataTable['output_type'] = 'display_data';\n",
              "          await google.colab.output.renderOutput(dataTable, element);\n",
              "          const docLink = document.createElement('div');\n",
              "          docLink.innerHTML = docLinkHtml;\n",
              "          element.appendChild(docLink);\n",
              "        }\n",
              "      </script>\n",
              "    </div>\n",
              "  </div>\n",
              "  "
            ]
          },
          "metadata": {},
          "execution_count": 22
        }
      ],
      "source": [
        "## Reconstrut Index\n",
        "print(subset_cnts.shape)\n",
        "subset_cnts['gene_id']=subset_cnts.index.copy()\n",
        "subset_cnts.index=subset_cnts.index.str.extract(\"(ENSMUSG[0-9]{11})\")[0]\n",
        "subset_cnts"
      ]
    },
    {
      "cell_type": "code",
      "source": [
        "print(mouselocal['gene_id'])\n",
        "mouselocal.index=mouselocal['gene_id']"
      ],
      "metadata": {
        "id": "oQRZl64tV_b9",
        "colab": {
          "base_uri": "https://localhost:8080/"
        },
        "outputId": "5f08f9fc-965a-4ea1-f4ad-7283bd77ee4c"
      },
      "execution_count": null,
      "outputs": [
        {
          "output_type": "stream",
          "name": "stdout",
          "text": [
            "0       ENSMUSG00000000001\n",
            "1       ENSMUSG00000000028\n",
            "2       ENSMUSG00000000049\n",
            "3       ENSMUSG00000000058\n",
            "4       ENSMUSG00000000085\n",
            "               ...        \n",
            "9518    ENSMUSG00000117975\n",
            "9519    ENSMUSG00000118332\n",
            "9520    ENSMUSG00000118346\n",
            "9521    ENSMUSG00000118504\n",
            "9522    ENSMUSG00000118560\n",
            "Name: gene_id, Length: 9523, dtype: object\n"
          ]
        }
      ]
    },
    {
      "cell_type": "code",
      "source": [
        "mouselocal['type']"
      ],
      "metadata": {
        "colab": {
          "base_uri": "https://localhost:8080/"
        },
        "id": "PjN9BlpLhVps",
        "outputId": "da532fc1-19f8-4cf7-a85e-09b007d26169"
      },
      "execution_count": null,
      "outputs": [
        {
          "output_type": "execute_result",
          "data": {
            "text/plain": [
              "gene_id\n",
              "ENSMUSG00000000001            cytoplasm\n",
              "ENSMUSG00000000028              nucleus\n",
              "ENSMUSG00000000049            cytoplasm\n",
              "ENSMUSG00000000058            cytoplasm\n",
              "ENSMUSG00000000085              nucleus\n",
              "                            ...        \n",
              "ENSMUSG00000117975    integral membrane\n",
              "ENSMUSG00000118332              nucleus\n",
              "ENSMUSG00000118346    integral membrane\n",
              "ENSMUSG00000118504    integral membrane\n",
              "ENSMUSG00000118560    integral membrane\n",
              "Name: type, Length: 9523, dtype: object"
            ]
          },
          "metadata": {},
          "execution_count": 24
        }
      ]
    },
    {
      "cell_type": "code",
      "source": [
        "## Merge Data \n",
        "protein_loc_df = subset_cnts.copy()\n",
        "protein_loc_df = protein_loc_df.join(mouselocal['type'],how='left')\n",
        "\n",
        "protein_loc_df['log_clip_enrichment']=np.log2(protein_loc_df['clip_enrichment'])\n",
        "protein_loc_df['log_rden_change']=np.log2(protein_loc_df['rden_change'])"
      ],
      "metadata": {
        "id": "BFSIw05IhW-v"
      },
      "execution_count": null,
      "outputs": []
    },
    {
      "cell_type": "code",
      "source": [
        "## Protein Localization Plot \n",
        "from matplotlib import pyplot as plt\n",
        "import numpy as np\n",
        "from scipy import stats\n",
        "import seaborn as sns\n",
        "\n",
        "fig, ax = plt.subplots(1,1,figsize=(5,5))\n",
        "\n",
        "color_dict = dict({'nucleus':'#6495ed',\n",
        "                  'cytoplasm':'#228b22',\n",
        "                  'integral membrane': '#ff1493'})\n",
        "\n",
        "sns.scatterplot(x='log_clip_enrichment',\n",
        "                y='log_rden_change',\n",
        "                data=protein_loc_df.sample(600), # sample randomly extraction 600 times \n",
        "                hue='type',\n",
        "                marker='o',\n",
        "                palette=color_dict)\n",
        "\n",
        "\n",
        "## Tilte \n",
        "plt.title('CLIP and ribosome footprinting upon Lin28a knockdown \\n',fontsize=18)\n",
        "\n",
        "## set axis\n",
        "plt.xlabel('LIN28A CLIP enrichment (log$_2$)',fontsize=17)\n",
        "plt.ylabel('Ribosome density change \\non Lin28a knockdown (log$_2$)',fontsize=17)\n",
        "plt.xlim([-6,4]) \n",
        "plt.ylim([-2,3])\n",
        "plt.locator_params(axis='y', nbins=5)\n",
        "\n",
        "ax.spines['top'].set_linewidth(0.2) # 테두리 두께 설정\n",
        "ax.spines['right'].set_linewidth(0.2)\n",
        "\n",
        "ax.grid(axis=\"y\",which=\"major\",alpha=0.5) # grid 두께 설정\n",
        "\n",
        "ax.spines['right'].set_visible(False)\n",
        "ax.spines['top'].set_color('gray')\n",
        "\n",
        "ax.tick_params(labelsize=13) # tick font size \n",
        "\n",
        "## legend\n",
        "plt.legend(loc=2,fontsize=14,edgecolor='black')\n",
        "\n",
        "plt.show()"
      ],
      "metadata": {
        "colab": {
          "base_uri": "https://localhost:8080/",
          "height": 390
        },
        "id": "qgMnna8AhfJ7",
        "outputId": "d1781bdb-fbbe-4025-be1b-12a74aba1b94"
      },
      "execution_count": 72,
      "outputs": [
        {
          "output_type": "display_data",
          "data": {
            "text/plain": [
              "<Figure size 360x360 with 1 Axes>"
            ],
            "image/png": "[encoded data removed]"
          },
          "metadata": {
            "needs_background": "light"
          }
        }
      ]
    },
    {
      "cell_type": "code",
      "source": [
        ""
      ],
      "metadata": {
        "id": "Zwn2n6xvGnlU"
      },
      "execution_count": null,
      "outputs": []
    }
  ],
  "metadata": {
    "colab": {
      "collapsed_sections": [],
      "name": "CoLab_TermProj_2022_1.ipynb",
      "provenance": [],
      "include_colab_link": true
    },
    "kernelspec": {
      "display_name": "Python 3 (ipykernel)",
      "language": "python",
      "name": "python3"
    },
    "language_info": {
      "codemirror_mode": {
        "name": "ipython",
        "version": 3
      },
      "file_extension": ".py",
      "mimetype": "text/x-python",
      "name": "python",
      "nbconvert_exporter": "python",
      "pygments_lexer": "ipython3",
      "version": "3.8.8"
    }
  },
  "nbformat": 4,
  "nbformat_minor": 0
}
